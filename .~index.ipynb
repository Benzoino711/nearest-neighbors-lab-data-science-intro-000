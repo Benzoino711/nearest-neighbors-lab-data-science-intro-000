{
 "cells": [
  {
   "cell_type": "markdown",
   "metadata": {},
   "source": [
    "# Nearest Neighbors Lab"
   ]
  },
  {
   "cell_type": "markdown",
   "metadata": {},
   "source": [
    "### Introduction\n",
    "\n",
    "In this lab, you apply nearest neighbors technique to help a taxi company predict the length of their rides.  Imagine that we are hired to consult for LiftOff, a limo and taxi service that is just opening up in NYC.  Liftoff wants it's taxi drivers to target longer rides, as the longer the ride the more money it makes.  LiftOff has the following theory:\n",
    "\n",
    "* the pickup location of a taxi ride can help predict the length of the ride.  \n",
    "\n",
    "\n",
    "\n",
    "LiftOff asks us to do some analysis to write a function that will allow it to **predict the length of a taxi ride for any given location **.\n",
    "\n",
    "Our technique will be the following:\n",
    "  * **Collect** Obtain the data containing all of the taxi information, and only select the attributes of taxi trips that we need \n",
    "  * ** Explore ** Examine the attributes of our data, and plot some of our data on a map\n",
    "  * ** Train ** Write our nearest neighbors formula, and change the number of nearby trips to predict the length of a new trip\n",
    "  * ** Predict ** Use our function to predict trip lengths of new locations"
   ]
  },
  {
   "cell_type": "markdown",
   "metadata": {},
   "source": [
    "### Collect and Explore the data"
   ]
  },
  {
   "cell_type": "markdown",
   "metadata": {},
   "source": [
    "#### Collect the Data"
   ]
  },
  {
   "cell_type": "markdown",
   "metadata": {},
   "source": [
    "Luckily for us, [NYC Open Data](https://opendata.cityofnewyork.us/) collects information about NYC taxi trips and provides this data on [its website](https://data.cityofnewyork.us/Transportation/2014-Yellow-Taxi-Trip-Data/gn7m-em8n)."
   ]
  },
  {
   "cell_type": "markdown",
   "metadata": {},
   "source": [
    "![](./nyc-taxi.png)"
   ]
  },
  {
   "cell_type": "markdown",
   "metadata": {},
   "source": [
    "For your reading pleasure, the data has already been downloaded into the [trips.json](https://github.com/learn-co-curriculum/nearest-neighbors-lab/blob/master/trips.json) file in this lab which you can find here.  We'll use Python's `json` library to take the data from the `trips.json` file and store it as a variable in our notebook."
   ]
  },
  {
   "cell_type": "code",
   "execution_count": 12,
   "metadata": {},
   "outputs": [],
   "source": [
    "import json\n",
    "# First, read the file\n",
    "trips_file = open('trips.json')\n",
    "# Then, convert contents to list of dictionaries \n",
    "trips = json.load(trips_file)"
   ]
  },
  {
   "cell_type": "markdown",
   "metadata": {},
   "source": [
    "> Press shift + enter"
   ]
  },
  {
   "cell_type": "markdown",
   "metadata": {},
   "source": [
    "#### Explore the data"
   ]
  },
  {
   "cell_type": "markdown",
   "metadata": {},
   "source": [
    "The next step is to explore the data.  First, let's see how many trips we have."
   ]
  },
  {
   "cell_type": "code",
   "execution_count": 17,
   "metadata": {},
   "outputs": [
    {
     "ename": "AttributeError",
     "evalue": "'list' object has no attribute 'keys'",
     "output_type": "error",
     "traceback": [
      "\u001b[0;31m\u001b[0m",
      "\u001b[0;31mAttributeError\u001b[0mTraceback (most recent call last)",
      "\u001b[0;32m<ipython-input-17-ed29b810c76e>\u001b[0m in \u001b[0;36m<module>\u001b[0;34m()\u001b[0m\n\u001b[1;32m      1\u001b[0m \u001b[0mlen\u001b[0m\u001b[0;34m(\u001b[0m\u001b[0mtrips\u001b[0m\u001b[0;34m)\u001b[0m\u001b[0;34m\u001b[0m\u001b[0m\n\u001b[1;32m      2\u001b[0m \u001b[0;34m\u001b[0m\u001b[0m\n\u001b[0;32m----> 3\u001b[0;31m \u001b[0;32mfor\u001b[0m \u001b[0mkey\u001b[0m \u001b[0;32min\u001b[0m \u001b[0mtrips\u001b[0m\u001b[0;34m.\u001b[0m\u001b[0mkeys\u001b[0m\u001b[0;34m(\u001b[0m\u001b[0;34m)\u001b[0m\u001b[0;34m:\u001b[0m\u001b[0;34m\u001b[0m\u001b[0m\n\u001b[0m\u001b[1;32m      4\u001b[0m   \u001b[0mprint\u001b[0m\u001b[0;34m(\u001b[0m\u001b[0mkey\u001b[0m\u001b[0;34m)\u001b[0m\u001b[0;34m\u001b[0m\u001b[0m\n",
      "\u001b[0;31mAttributeError\u001b[0m: 'list' object has no attribute 'keys'"
     ]
    }
   ],
   "source": [
    "len(trips)\n",
    "\n"
   ]
  },
  {
   "cell_type": "markdown",
   "metadata": {},
   "source": [
    "Not bad at all.  Now let's see what each individual trip looks like.  Each trip is a dictionary, so we can see the attributes of each trip with the `keys` function."
   ]
  },
  {
   "cell_type": "code",
   "execution_count": 18,
   "metadata": {
    "scrolled": true
   },
   "outputs": [
    {
     "data": {
      "text/plain": [
       "dict_keys(['dropoff_datetime', 'dropoff_latitude', 'dropoff_longitude', 'fare_amount', 'imp_surcharge', 'mta_tax', 'passenger_count', 'payment_type', 'pickup_datetime', 'pickup_latitude', 'pickup_longitude', 'rate_code', 'tip_amount', 'tolls_amount', 'total_amount', 'trip_distance', 'vendor_id'])"
      ]
     },
     "execution_count": 18,
     "metadata": {},
     "output_type": "execute_result"
    }
   ],
   "source": [
    "trips[0].keys()"
   ]
  },
  {
   "cell_type": "markdown",
   "metadata": {},
   "source": [
    "#### Limit our data"
   ]
  },
  {
   "cell_type": "markdown",
   "metadata": {},
   "source": [
    "Ok, now that we have explored some of our data, let's begin to think through what data is relevant for our task."
   ]
  },
  {
   "cell_type": "markdown",
   "metadata": {
    "collapsed": true
   },
   "source": [
    "Remember that our task is to **use the trip location to predict the length of a trip**.  So let's select the `pickup_latitude`, `pickup_longitude`, and `trip_distance` from each trip.  That will give us the trip location and related `trip_distance` for each trip.  Then based on these **actual** trip distances we can use nearest neighbors to predict an **expected** trip distance for a trip, provided an **actual** location."
   ]
  },
  {
   "cell_type": "markdown",
   "metadata": {},
   "source": [
    "** Add in about trip distance ** "
   ]
  },
  {
   "cell_type": "markdown",
   "metadata": {},
   "source": [
    "Write a function called `parse_trips(trips)` that returns a list of the trips with only the following attributes: \n",
    "* `trip_distance`\n",
    "* `pickup_latitude`\n",
    "* `pickup_longitude`"
   ]
  },
  {
   "cell_type": "code",
   "execution_count": 20,
   "metadata": {},
   "outputs": [],
   "source": [
    "def parse_trips(trips):\n",
    "    return list(map(lambda trip: {'trip_distance': trip['trip_distance'], 'pickup_latitude': trip['pickup_latitude'], 'pickup_longitude': trip['pickup_longitude']},trips))\n",
    "    "
   ]
  },
  {
   "cell_type": "code",
   "execution_count": 21,
   "metadata": {},
   "outputs": [
    {
     "data": {
      "text/plain": [
       "{'trip_distance': '18.379999999999999',\n",
       " 'pickup_latitude': '40.64499',\n",
       " 'pickup_longitude': '-73.781149999999997'}"
      ]
     },
     "execution_count": 21,
     "metadata": {},
     "output_type": "execute_result"
    }
   ],
   "source": [
    "parsed_trips = parse_trips(trips)\n",
    "parsed_trips and parsed_trips[0]\n",
    "\n",
    "# {'pickup_latitude': '40.64499',\n",
    "#  'pickup_longitude': '-73.78115',\n",
    "#  'trip_distance': '18.38'}"
   ]
  },
  {
   "cell_type": "markdown",
   "metadata": {},
   "source": [
    "Now, there's just one change to make.  If you look at one of the trips, all of the values are strings.  Let's change them to be floats."
   ]
  },
  {
   "cell_type": "code",
   "execution_count": 22,
   "metadata": {},
   "outputs": [],
   "source": [
    "def float_values(trips):    \n",
    "         return trips and list(map(lambda trip: {'trip_distance': float(trip['trip_distance']), 'pickup_latitude': float(trip['pickup_latitude']), 'pickup_longitude': float(trip['pickup_longitude'])},trips))\n"
   ]
  },
  {
   "cell_type": "code",
   "execution_count": 23,
   "metadata": {},
   "outputs": [],
   "source": [
    "cleaned_trips = float_values(parsed_trips)"
   ]
  },
  {
   "cell_type": "code",
   "execution_count": 27,
   "metadata": {},
   "outputs": [
    {
     "data": {
      "text/plain": [
       "[{'trip_distance': 18.38,\n",
       "  'pickup_latitude': 40.64499,\n",
       "  'pickup_longitude': -73.78115},\n",
       " {'trip_distance': 1.3,\n",
       "  'pickup_latitude': 40.766931,\n",
       "  'pickup_longitude': -73.982098},\n",
       " {'trip_distance': 4.5,\n",
       "  'pickup_latitude': 40.77773,\n",
       "  'pickup_longitude': -73.951902},\n",
       " {'trip_distance': 2.4,\n",
       "  'pickup_latitude': 40.795678,\n",
       "  'pickup_longitude': -73.971049},\n",
       " {'trip_distance': 0.84,\n",
       "  'pickup_latitude': 40.762912,\n",
       "  'pickup_longitude': -73.967782},\n",
       " {'trip_distance': 0.8,\n",
       "  'pickup_latitude': 40.731176,\n",
       "  'pickup_longitude': -73.991572},\n",
       " {'trip_distance': 0.5,\n",
       "  'pickup_latitude': 40.800219,\n",
       "  'pickup_longitude': -73.968098},\n",
       " {'trip_distance': 17.3,\n",
       "  'pickup_latitude': 40.648509,\n",
       "  'pickup_longitude': -73.783508},\n",
       " {'trip_distance': 0.63,\n",
       "  'pickup_latitude': 40.721897,\n",
       "  'pickup_longitude': -73.983493},\n",
       " {'trip_distance': 2.8,\n",
       "  'pickup_latitude': 40.791566,\n",
       "  'pickup_longitude': -73.972224}]"
      ]
     },
     "execution_count": 27,
     "metadata": {},
     "output_type": "execute_result"
    }
   ],
   "source": [
    "cleaned_trips[0:10]\n",
    "\n",
    "# {'pickup_latitude': 40.64499,\n",
    "#  'pickup_longitude': -73.78115,\n",
    "#  'trip_distance': 18.38}"
   ]
  },
  {
   "cell_type": "markdown",
   "metadata": {},
   "source": [
    "### Exploring the Data"
   ]
  },
  {
   "cell_type": "markdown",
   "metadata": {},
   "source": [
    "Now that we have paired down our data, let's get a sense of our trip data.  We can use the `folium` Python library to plot a map of Manhattan, and our data.  First we must import `folium`, and then use the `Map` function to pass through a `location`, and `zoom_start`.  If a map isn't showing up below, copy and paste the command `pip install -r requirements.txt` into your terminal to install `folium` then try again."
   ]
  },
  {
   "cell_type": "code",
   "execution_count": 28,
   "metadata": {},
   "outputs": [],
   "source": [
    "import folium\n",
    "manhattan_map = folium.Map(location=[40.7589, -73.9851], zoom_start=11)"
   ]
  },
  {
   "cell_type": "code",
   "execution_count": 30,
   "metadata": {
    "scrolled": true
   },
   "outputs": [
    {
     "data": {
      "text/html": [
       "<div style=\"width:100%;\"><div style=\"position:relative;width:100%;height:0;padding-bottom:60%;\"><iframe src=\"data:text/html;charset=utf-8;base64,PCFET0NUWVBFIGh0bWw+CjxoZWFkPiAgICAKICAgIDxtZXRhIGh0dHAtZXF1aXY9ImNvbnRlbnQtdHlwZSIgY29udGVudD0idGV4dC9odG1sOyBjaGFyc2V0PVVURi04IiAvPgogICAgPHNjcmlwdD5MX1BSRUZFUl9DQU5WQVMgPSBmYWxzZTsgTF9OT19UT1VDSCA9IGZhbHNlOyBMX0RJU0FCTEVfM0QgPSBmYWxzZTs8L3NjcmlwdD4KICAgIDxzY3JpcHQgc3JjPSJodHRwczovL2Nkbi5qc2RlbGl2ci5uZXQvbnBtL2xlYWZsZXRAMS4yLjAvZGlzdC9sZWFmbGV0LmpzIj48L3NjcmlwdD4KICAgIDxzY3JpcHQgc3JjPSJodHRwczovL2FqYXguZ29vZ2xlYXBpcy5jb20vYWpheC9saWJzL2pxdWVyeS8xLjExLjEvanF1ZXJ5Lm1pbi5qcyI+PC9zY3JpcHQ+CiAgICA8c2NyaXB0IHNyYz0iaHR0cHM6Ly9tYXhjZG4uYm9vdHN0cmFwY2RuLmNvbS9ib290c3RyYXAvMy4yLjAvanMvYm9vdHN0cmFwLm1pbi5qcyI+PC9zY3JpcHQ+CiAgICA8c2NyaXB0IHNyYz0iaHR0cHM6Ly9jZG5qcy5jbG91ZGZsYXJlLmNvbS9hamF4L2xpYnMvTGVhZmxldC5hd2Vzb21lLW1hcmtlcnMvMi4wLjIvbGVhZmxldC5hd2Vzb21lLW1hcmtlcnMuanMiPjwvc2NyaXB0PgogICAgPGxpbmsgcmVsPSJzdHlsZXNoZWV0IiBocmVmPSJodHRwczovL2Nkbi5qc2RlbGl2ci5uZXQvbnBtL2xlYWZsZXRAMS4yLjAvZGlzdC9sZWFmbGV0LmNzcyIvPgogICAgPGxpbmsgcmVsPSJzdHlsZXNoZWV0IiBocmVmPSJodHRwczovL21heGNkbi5ib290c3RyYXBjZG4uY29tL2Jvb3RzdHJhcC8zLjIuMC9jc3MvYm9vdHN0cmFwLm1pbi5jc3MiLz4KICAgIDxsaW5rIHJlbD0ic3R5bGVzaGVldCIgaHJlZj0iaHR0cHM6Ly9tYXhjZG4uYm9vdHN0cmFwY2RuLmNvbS9ib290c3RyYXAvMy4yLjAvY3NzL2Jvb3RzdHJhcC10aGVtZS5taW4uY3NzIi8+CiAgICA8bGluayByZWw9InN0eWxlc2hlZXQiIGhyZWY9Imh0dHBzOi8vbWF4Y2RuLmJvb3RzdHJhcGNkbi5jb20vZm9udC1hd2Vzb21lLzQuNi4zL2Nzcy9mb250LWF3ZXNvbWUubWluLmNzcyIvPgogICAgPGxpbmsgcmVsPSJzdHlsZXNoZWV0IiBocmVmPSJodHRwczovL2NkbmpzLmNsb3VkZmxhcmUuY29tL2FqYXgvbGlicy9MZWFmbGV0LmF3ZXNvbWUtbWFya2Vycy8yLjAuMi9sZWFmbGV0LmF3ZXNvbWUtbWFya2Vycy5jc3MiLz4KICAgIDxsaW5rIHJlbD0ic3R5bGVzaGVldCIgaHJlZj0iaHR0cHM6Ly9yYXdnaXQuY29tL3B5dGhvbi12aXN1YWxpemF0aW9uL2ZvbGl1bS9tYXN0ZXIvZm9saXVtL3RlbXBsYXRlcy9sZWFmbGV0LmF3ZXNvbWUucm90YXRlLmNzcyIvPgogICAgPHN0eWxlPmh0bWwsIGJvZHkge3dpZHRoOiAxMDAlO2hlaWdodDogMTAwJTttYXJnaW46IDA7cGFkZGluZzogMDt9PC9zdHlsZT4KICAgIDxzdHlsZT4jbWFwIHtwb3NpdGlvbjphYnNvbHV0ZTt0b3A6MDtib3R0b206MDtyaWdodDowO2xlZnQ6MDt9PC9zdHlsZT4KICAgIAogICAgICAgICAgICA8c3R5bGU+ICNtYXBfOWE3MDlhNjEwMjRiNDYzOGI2MGM4ZTE0ZjhjZmQxMWYgewogICAgICAgICAgICAgICAgcG9zaXRpb24gOiByZWxhdGl2ZTsKICAgICAgICAgICAgICAgIHdpZHRoIDogMTAwLjAlOwogICAgICAgICAgICAgICAgaGVpZ2h0OiAxMDAuMCU7CiAgICAgICAgICAgICAgICBsZWZ0OiAwLjAlOwogICAgICAgICAgICAgICAgdG9wOiAwLjAlOwogICAgICAgICAgICAgICAgfQogICAgICAgICAgICA8L3N0eWxlPgogICAgICAgIAo8L2hlYWQ+Cjxib2R5PiAgICAKICAgIAogICAgICAgICAgICA8ZGl2IGNsYXNzPSJmb2xpdW0tbWFwIiBpZD0ibWFwXzlhNzA5YTYxMDI0YjQ2MzhiNjBjOGUxNGY4Y2ZkMTFmIiA+PC9kaXY+CiAgICAgICAgCjwvYm9keT4KPHNjcmlwdD4gICAgCiAgICAKCiAgICAgICAgICAgIAogICAgICAgICAgICAgICAgdmFyIGJvdW5kcyA9IG51bGw7CiAgICAgICAgICAgIAoKICAgICAgICAgICAgdmFyIG1hcF85YTcwOWE2MTAyNGI0NjM4YjYwYzhlMTRmOGNmZDExZiA9IEwubWFwKAogICAgICAgICAgICAgICAgICAgICAgICAgICAgICAgICAgJ21hcF85YTcwOWE2MTAyNGI0NjM4YjYwYzhlMTRmOGNmZDExZicsCiAgICAgICAgICAgICAgICAgICAgICAgICAgICAgICAgICB7Y2VudGVyOiBbNDAuNzU4OSwtNzMuOTg1MV0sCiAgICAgICAgICAgICAgICAgICAgICAgICAgICAgICAgICB6b29tOiAxMSwKICAgICAgICAgICAgICAgICAgICAgICAgICAgICAgICAgIG1heEJvdW5kczogYm91bmRzLAogICAgICAgICAgICAgICAgICAgICAgICAgICAgICAgICAgbGF5ZXJzOiBbXSwKICAgICAgICAgICAgICAgICAgICAgICAgICAgICAgICAgIHdvcmxkQ29weUp1bXA6IGZhbHNlLAogICAgICAgICAgICAgICAgICAgICAgICAgICAgICAgICAgY3JzOiBMLkNSUy5FUFNHMzg1NwogICAgICAgICAgICAgICAgICAgICAgICAgICAgICAgICB9KTsKICAgICAgICAgICAgCiAgICAgICAgCiAgICAKICAgICAgICAgICAgdmFyIHRpbGVfbGF5ZXJfZGQ0ZTE5MzYzMzI5NDVjY2I4ZGU0MmEwYTgzZGVkNWEgPSBMLnRpbGVMYXllcigKICAgICAgICAgICAgICAgICdodHRwczovL3tzfS50aWxlLm9wZW5zdHJlZXRtYXAub3JnL3t6fS97eH0ve3l9LnBuZycsCiAgICAgICAgICAgICAgICB7CiAgImF0dHJpYnV0aW9uIjogbnVsbCwKICAiZGV0ZWN0UmV0aW5hIjogZmFsc2UsCiAgIm1heFpvb20iOiAxOCwKICAibWluWm9vbSI6IDEsCiAgIm5vV3JhcCI6IGZhbHNlLAogICJzdWJkb21haW5zIjogImFiYyIKfQogICAgICAgICAgICAgICAgKS5hZGRUbyhtYXBfOWE3MDlhNjEwMjRiNDYzOGI2MGM4ZTE0ZjhjZmQxMWYpOwogICAgICAgIAo8L3NjcmlwdD4=\" style=\"position:absolute;width:100%;height:100%;left:0;top:0;border:none !important;\" allowfullscreen webkitallowfullscreen mozallowfullscreen></iframe></div></div>"
      ],
      "text/plain": [
       "<folium.folium.Map at 0x7f17aced6278>"
      ]
     },
     "execution_count": 30,
     "metadata": {},
     "output_type": "execute_result"
    }
   ],
   "source": [
    "manhattan_map"
   ]
  },
  {
   "cell_type": "markdown",
   "metadata": {},
   "source": [
    "Ok, now let's see how we could add a dot to mark a specific location.  We'll start with Times Square."
   ]
  },
  {
   "cell_type": "code",
   "execution_count": 32,
   "metadata": {},
   "outputs": [
    {
     "data": {
      "text/plain": [
       "<folium.features.CircleMarker at 0x7f17952c6748>"
      ]
     },
     "execution_count": 32,
     "metadata": {},
     "output_type": "execute_result"
    }
   ],
   "source": [
    "marker = folium.CircleMarker(location = [40.7589, -73.9851], radius=10)\n",
    "marker.add_to(manhattan_map)"
   ]
  },
  {
   "cell_type": "markdown",
   "metadata": {},
   "source": [
    "Above, we first create a marker.  Then we add that circle marker to the `manhattan_map` we created earlier. "
   ]
  },
  {
   "cell_type": "code",
   "execution_count": 33,
   "metadata": {
    "scrolled": false
   },
   "outputs": [
    {
     "data": {
      "text/html": [
       "<div style=\"width:100%;\"><div style=\"position:relative;width:100%;height:0;padding-bottom:60%;\"><iframe src=\"data:text/html;charset=utf-8;base64,PCFET0NUWVBFIGh0bWw+CjxoZWFkPiAgICAKICAgIDxtZXRhIGh0dHAtZXF1aXY9ImNvbnRlbnQtdHlwZSIgY29udGVudD0idGV4dC9odG1sOyBjaGFyc2V0PVVURi04IiAvPgogICAgPHNjcmlwdD5MX1BSRUZFUl9DQU5WQVMgPSBmYWxzZTsgTF9OT19UT1VDSCA9IGZhbHNlOyBMX0RJU0FCTEVfM0QgPSBmYWxzZTs8L3NjcmlwdD4KICAgIDxzY3JpcHQgc3JjPSJodHRwczovL2Nkbi5qc2RlbGl2ci5uZXQvbnBtL2xlYWZsZXRAMS4yLjAvZGlzdC9sZWFmbGV0LmpzIj48L3NjcmlwdD4KICAgIDxzY3JpcHQgc3JjPSJodHRwczovL2FqYXguZ29vZ2xlYXBpcy5jb20vYWpheC9saWJzL2pxdWVyeS8xLjExLjEvanF1ZXJ5Lm1pbi5qcyI+PC9zY3JpcHQ+CiAgICA8c2NyaXB0IHNyYz0iaHR0cHM6Ly9tYXhjZG4uYm9vdHN0cmFwY2RuLmNvbS9ib290c3RyYXAvMy4yLjAvanMvYm9vdHN0cmFwLm1pbi5qcyI+PC9zY3JpcHQ+CiAgICA8c2NyaXB0IHNyYz0iaHR0cHM6Ly9jZG5qcy5jbG91ZGZsYXJlLmNvbS9hamF4L2xpYnMvTGVhZmxldC5hd2Vzb21lLW1hcmtlcnMvMi4wLjIvbGVhZmxldC5hd2Vzb21lLW1hcmtlcnMuanMiPjwvc2NyaXB0PgogICAgPGxpbmsgcmVsPSJzdHlsZXNoZWV0IiBocmVmPSJodHRwczovL2Nkbi5qc2RlbGl2ci5uZXQvbnBtL2xlYWZsZXRAMS4yLjAvZGlzdC9sZWFmbGV0LmNzcyIvPgogICAgPGxpbmsgcmVsPSJzdHlsZXNoZWV0IiBocmVmPSJodHRwczovL21heGNkbi5ib290c3RyYXBjZG4uY29tL2Jvb3RzdHJhcC8zLjIuMC9jc3MvYm9vdHN0cmFwLm1pbi5jc3MiLz4KICAgIDxsaW5rIHJlbD0ic3R5bGVzaGVldCIgaHJlZj0iaHR0cHM6Ly9tYXhjZG4uYm9vdHN0cmFwY2RuLmNvbS9ib290c3RyYXAvMy4yLjAvY3NzL2Jvb3RzdHJhcC10aGVtZS5taW4uY3NzIi8+CiAgICA8bGluayByZWw9InN0eWxlc2hlZXQiIGhyZWY9Imh0dHBzOi8vbWF4Y2RuLmJvb3RzdHJhcGNkbi5jb20vZm9udC1hd2Vzb21lLzQuNi4zL2Nzcy9mb250LWF3ZXNvbWUubWluLmNzcyIvPgogICAgPGxpbmsgcmVsPSJzdHlsZXNoZWV0IiBocmVmPSJodHRwczovL2NkbmpzLmNsb3VkZmxhcmUuY29tL2FqYXgvbGlicy9MZWFmbGV0LmF3ZXNvbWUtbWFya2Vycy8yLjAuMi9sZWFmbGV0LmF3ZXNvbWUtbWFya2Vycy5jc3MiLz4KICAgIDxsaW5rIHJlbD0ic3R5bGVzaGVldCIgaHJlZj0iaHR0cHM6Ly9yYXdnaXQuY29tL3B5dGhvbi12aXN1YWxpemF0aW9uL2ZvbGl1bS9tYXN0ZXIvZm9saXVtL3RlbXBsYXRlcy9sZWFmbGV0LmF3ZXNvbWUucm90YXRlLmNzcyIvPgogICAgPHN0eWxlPmh0bWwsIGJvZHkge3dpZHRoOiAxMDAlO2hlaWdodDogMTAwJTttYXJnaW46IDA7cGFkZGluZzogMDt9PC9zdHlsZT4KICAgIDxzdHlsZT4jbWFwIHtwb3NpdGlvbjphYnNvbHV0ZTt0b3A6MDtib3R0b206MDtyaWdodDowO2xlZnQ6MDt9PC9zdHlsZT4KICAgIAogICAgICAgICAgICA8c3R5bGU+ICNtYXBfOWE3MDlhNjEwMjRiNDYzOGI2MGM4ZTE0ZjhjZmQxMWYgewogICAgICAgICAgICAgICAgcG9zaXRpb24gOiByZWxhdGl2ZTsKICAgICAgICAgICAgICAgIHdpZHRoIDogMTAwLjAlOwogICAgICAgICAgICAgICAgaGVpZ2h0OiAxMDAuMCU7CiAgICAgICAgICAgICAgICBsZWZ0OiAwLjAlOwogICAgICAgICAgICAgICAgdG9wOiAwLjAlOwogICAgICAgICAgICAgICAgfQogICAgICAgICAgICA8L3N0eWxlPgogICAgICAgIAo8L2hlYWQ+Cjxib2R5PiAgICAKICAgIAogICAgICAgICAgICA8ZGl2IGNsYXNzPSJmb2xpdW0tbWFwIiBpZD0ibWFwXzlhNzA5YTYxMDI0YjQ2MzhiNjBjOGUxNGY4Y2ZkMTFmIiA+PC9kaXY+CiAgICAgICAgCjwvYm9keT4KPHNjcmlwdD4gICAgCiAgICAKCiAgICAgICAgICAgIAogICAgICAgICAgICAgICAgdmFyIGJvdW5kcyA9IG51bGw7CiAgICAgICAgICAgIAoKICAgICAgICAgICAgdmFyIG1hcF85YTcwOWE2MTAyNGI0NjM4YjYwYzhlMTRmOGNmZDExZiA9IEwubWFwKAogICAgICAgICAgICAgICAgICAgICAgICAgICAgICAgICAgJ21hcF85YTcwOWE2MTAyNGI0NjM4YjYwYzhlMTRmOGNmZDExZicsCiAgICAgICAgICAgICAgICAgICAgICAgICAgICAgICAgICB7Y2VudGVyOiBbNDAuNzU4OSwtNzMuOTg1MV0sCiAgICAgICAgICAgICAgICAgICAgICAgICAgICAgICAgICB6b29tOiAxMSwKICAgICAgICAgICAgICAgICAgICAgICAgICAgICAgICAgIG1heEJvdW5kczogYm91bmRzLAogICAgICAgICAgICAgICAgICAgICAgICAgICAgICAgICAgbGF5ZXJzOiBbXSwKICAgICAgICAgICAgICAgICAgICAgICAgICAgICAgICAgIHdvcmxkQ29weUp1bXA6IGZhbHNlLAogICAgICAgICAgICAgICAgICAgICAgICAgICAgICAgICAgY3JzOiBMLkNSUy5FUFNHMzg1NwogICAgICAgICAgICAgICAgICAgICAgICAgICAgICAgICB9KTsKICAgICAgICAgICAgCiAgICAgICAgCiAgICAKICAgICAgICAgICAgdmFyIHRpbGVfbGF5ZXJfZGQ0ZTE5MzYzMzI5NDVjY2I4ZGU0MmEwYTgzZGVkNWEgPSBMLnRpbGVMYXllcigKICAgICAgICAgICAgICAgICdodHRwczovL3tzfS50aWxlLm9wZW5zdHJlZXRtYXAub3JnL3t6fS97eH0ve3l9LnBuZycsCiAgICAgICAgICAgICAgICB7CiAgImF0dHJpYnV0aW9uIjogbnVsbCwKICAiZGV0ZWN0UmV0aW5hIjogZmFsc2UsCiAgIm1heFpvb20iOiAxOCwKICAibWluWm9vbSI6IDEsCiAgIm5vV3JhcCI6IGZhbHNlLAogICJzdWJkb21haW5zIjogImFiYyIKfQogICAgICAgICAgICAgICAgKS5hZGRUbyhtYXBfOWE3MDlhNjEwMjRiNDYzOGI2MGM4ZTE0ZjhjZmQxMWYpOwogICAgICAgIAogICAgCiAgICAgICAgICAgIHZhciBjaXJjbGVfbWFya2VyX2U4NjI4MmJlZmE2NDQwMTY4MTlkMTc2N2IxZmIyNWFhID0gTC5jaXJjbGVNYXJrZXIoCiAgICAgICAgICAgICAgICBbNDAuNzU4OSwtNzMuOTg1MV0sCiAgICAgICAgICAgICAgICB7CiAgImJ1YmJsaW5nTW91c2VFdmVudHMiOiB0cnVlLAogICJjb2xvciI6ICIjMzM4OGZmIiwKICAiZGFzaEFycmF5IjogbnVsbCwKICAiZGFzaE9mZnNldCI6IG51bGwsCiAgImZpbGwiOiBmYWxzZSwKICAiZmlsbENvbG9yIjogIiMzMzg4ZmYiLAogICJmaWxsT3BhY2l0eSI6IDAuMiwKICAiZmlsbFJ1bGUiOiAiZXZlbm9kZCIsCiAgImxpbmVDYXAiOiAicm91bmQiLAogICJsaW5lSm9pbiI6ICJyb3VuZCIsCiAgIm9wYWNpdHkiOiAxLjAsCiAgInJhZGl1cyI6IDEwLAogICJzdHJva2UiOiB0cnVlLAogICJ3ZWlnaHQiOiAzCn0KICAgICAgICAgICAgICAgICkuYWRkVG8obWFwXzlhNzA5YTYxMDI0YjQ2MzhiNjBjOGUxNGY4Y2ZkMTFmKTsKICAgICAgICAgICAgCjwvc2NyaXB0Pg==\" style=\"position:absolute;width:100%;height:100%;left:0;top:0;border:none !important;\" allowfullscreen webkitallowfullscreen mozallowfullscreen></iframe></div></div>"
      ],
      "text/plain": [
       "<folium.folium.Map at 0x7f17aced6278>"
      ]
     },
     "execution_count": 33,
     "metadata": {},
     "output_type": "execute_result"
    }
   ],
   "source": [
    "manhattan_map"
   ]
  },
  {
   "cell_type": "markdown",
   "metadata": {},
   "source": [
    "Do you see that blue dot near Time's Square?  That is our marker.  \n",
    "\n",
    "So now thar we can plot one marker on a map, we should have a sense of how we can plot many markers on a map to display our taxi ride data.  We simply plot a map, and then we add a marker for each location of a taxi trip.\n",
    "\n",
    "Now let's write some functions to allow us to plot maps and add markers a little more easily.  "
   ]
  },
  {
   "cell_type": "markdown",
   "metadata": {},
   "source": [
    "#### Writing some map plotting functions"
   ]
  },
  {
   "cell_type": "markdown",
   "metadata": {},
   "source": [
    "As a first step towards this, note that the functions to create both a marker and map each take in a location as two element list, representing the latitude and longitude values.  Take another look:\n",
    "\n",
    "```python\n",
    "marker = folium.CircleMarker(location = [40.7589, -73.9851])\n",
    "manhattan_map = folium.Map(location=[40.7589, -73.9851])\n",
    "```\n",
    "\n",
    "So let's write a function called to create this two element list from a trip.  Write a function called `location` that  takes in a trip as an argument and returns a list where the first element is the latitude and the second is the longitude.  Remember that a location looks like the following:"
   ]
  },
  {
   "cell_type": "code",
   "execution_count": 35,
   "metadata": {},
   "outputs": [
    {
     "data": {
      "text/plain": [
       "{'pickup_latitude': 40.64499,\n",
       " 'pickup_longitude': -73.78115,\n",
       " 'trip_distance': 18.38}"
      ]
     },
     "execution_count": 35,
     "metadata": {},
     "output_type": "execute_result"
    }
   ],
   "source": [
    "first_trip = {'pickup_latitude': 40.64499, 'pickup_longitude': -73.78115,  'trip_distance': 18.38}\n",
    "first_trip"
   ]
  },
  {
   "cell_type": "code",
   "execution_count": 48,
   "metadata": {},
   "outputs": [],
   "source": [
    "def location(trip):\n",
    "    return trip['pickup_latitude'], trip['pickup_longitude']"
   ]
  },
  {
   "cell_type": "code",
   "execution_count": 50,
   "metadata": {},
   "outputs": [
    {
     "data": {
      "text/plain": [
       "(40.64499, -73.78115)"
      ]
     },
     "execution_count": 50,
     "metadata": {},
     "output_type": "execute_result"
    }
   ],
   "source": [
    "first_location = location(first_trip) # [40.64499, -73.78115]\n",
    "first_location # [40.64499, -73.78115]"
   ]
  },
  {
   "cell_type": "markdown",
   "metadata": {},
   "source": [
    "Ok, now that we can turn a trip into a location, let's turn a location into a marker.  Write a function called `to_marker` that takes in a location (in the form of a list) as an argument, and returns a folium `circleMarker` for that location.  The radius of the marker should always equal 6."
   ]
  },
  {
   "cell_type": "code",
   "execution_count": 60,
   "metadata": {},
   "outputs": [
    {
     "name": "stdout",
     "output_type": "stream",
     "text": [
      "<folium.features.CircleMarker object at 0x7f17951f0b00>\n"
     ]
    }
   ],
   "source": [
    "def to_marker(location):\n",
    "    return folium.CircleMarker(location, radius = 6)\n",
    "\n",
    "\n",
    "print(to_marker(first_location))\n"
   ]
  },
  {
   "cell_type": "code",
   "execution_count": 64,
   "metadata": {},
   "outputs": [
    {
     "data": {
      "text/plain": [
       "6"
      ]
     },
     "execution_count": 64,
     "metadata": {},
     "output_type": "execute_result"
    }
   ],
   "source": [
    "import json\n",
    "times_square_marker = to_marker([40.7589, -73.9851])\n",
    "\n",
    "times_square_marker and times_square_marker.location # [40.7589, -73.9851]\n",
    "times_square_marker and json.loads(times_square_marker.options)['radius'] # 6"
   ]
  },
  {
   "cell_type": "markdown",
   "metadata": {},
   "source": [
    "Ok, now that we know how to produce a single marker, let's write a function to produce lots.  We can write a function called `markers_from_trips` that takes in a list of trips, and returns a marker object for each trip.  "
   ]
  },
  {
   "cell_type": "code",
   "execution_count": 72,
   "metadata": {},
   "outputs": [],
   "source": [
    "def markers_from_trips(trips):\n",
    "    locations = list(map(lambda trip: location(trip), trips))\n",
    "    return list(map(lambda location: to_marker(location),locations))"
   ]
  },
  {
   "cell_type": "code",
   "execution_count": 73,
   "metadata": {},
   "outputs": [],
   "source": [
    "trip_markers = markers_from_trips(cleaned_trips)"
   ]
  },
  {
   "cell_type": "code",
   "execution_count": 76,
   "metadata": {},
   "outputs": [
    {
     "name": "stdout",
     "output_type": "stream",
     "text": [
      "[<folium.features.CircleMarker object at 0x7f17951f0f28>, <folium.features.CircleMarker object at 0x7f17951f00b8>, <folium.features.CircleMarker object at 0x7f17951f05f8>, <folium.features.CircleMarker object at 0x7f1794d75e10>, <folium.features.CircleMarker object at 0x7f1794d75b00>, <folium.features.CircleMarker object at 0x7f1794d75c18>, <folium.features.CircleMarker object at 0x7f1794d75ef0>, <folium.features.CircleMarker object at 0x7f1794d75668>, <folium.features.CircleMarker object at 0x7f1794d75e80>, <folium.features.CircleMarker object at 0x7f17951f0d68>, <folium.features.CircleMarker object at 0x7f17951f0da0>, <folium.features.CircleMarker object at 0x7f17951f0630>, <folium.features.CircleMarker object at 0x7f1794d9cc88>, <folium.features.CircleMarker object at 0x7f1794dbec88>, <folium.features.CircleMarker object at 0x7f1794dbebe0>, <folium.features.CircleMarker object at 0x7f1794d9c080>, <folium.features.CircleMarker object at 0x7f1794d75400>, <folium.features.CircleMarker object at 0x7f1794d629b0>, <folium.features.CircleMarker object at 0x7f1794d622e8>, <folium.features.CircleMarker object at 0x7f1794d62b38>, <folium.features.CircleMarker object at 0x7f17951f0588>, <folium.features.CircleMarker object at 0x7f1794d9c0b8>, <folium.features.CircleMarker object at 0x7f1794d621d0>, <folium.features.CircleMarker object at 0x7f1794d62160>, <folium.features.CircleMarker object at 0x7f1794d62128>, <folium.features.CircleMarker object at 0x7f1794d75860>, <folium.features.CircleMarker object at 0x7f1794d75518>, <folium.features.CircleMarker object at 0x7f1794d75630>, <folium.features.CircleMarker object at 0x7f1794d75710>, <folium.features.CircleMarker object at 0x7f1794d754a8>, <folium.features.CircleMarker object at 0x7f1794d75128>, <folium.features.CircleMarker object at 0x7f1794d756d8>, <folium.features.CircleMarker object at 0x7f1794d757f0>, <folium.features.CircleMarker object at 0x7f1794d75438>, <folium.features.CircleMarker object at 0x7f1794d75a58>, <folium.features.CircleMarker object at 0x7f1794d75940>, <folium.features.CircleMarker object at 0x7f1794d75e48>, <folium.features.CircleMarker object at 0x7f1794d626d8>, <folium.features.CircleMarker object at 0x7f1794d626a0>, <folium.features.CircleMarker object at 0x7f1794d1e4e0>, <folium.features.CircleMarker object at 0x7f1794d1edd8>, <folium.features.CircleMarker object at 0x7f1794d1e080>, <folium.features.CircleMarker object at 0x7f1794d1e320>, <folium.features.CircleMarker object at 0x7f1794d1ec18>, <folium.features.CircleMarker object at 0x7f1794d1e438>, <folium.features.CircleMarker object at 0x7f1794d1e898>, <folium.features.CircleMarker object at 0x7f1794d1ec50>, <folium.features.CircleMarker object at 0x7f1794d9cc50>, <folium.features.CircleMarker object at 0x7f1794d91550>, <folium.features.CircleMarker object at 0x7f1794d91630>, <folium.features.CircleMarker object at 0x7f1794d62588>, <folium.features.CircleMarker object at 0x7f1794d62b00>, <folium.features.CircleMarker object at 0x7f1794d625f8>, <folium.features.CircleMarker object at 0x7f1794d62dd8>, <folium.features.CircleMarker object at 0x7f1794d62710>, <folium.features.CircleMarker object at 0x7f1794d624a8>, <folium.features.CircleMarker object at 0x7f1794d2de48>, <folium.features.CircleMarker object at 0x7f1794d51390>, <folium.features.CircleMarker object at 0x7f1794dbe550>, <folium.features.CircleMarker object at 0x7f1794d2d780>, <folium.features.CircleMarker object at 0x7f1794d75d30>, <folium.features.CircleMarker object at 0x7f1794d62e80>, <folium.features.CircleMarker object at 0x7f1794d62cf8>, <folium.features.CircleMarker object at 0x7f1794d62550>, <folium.features.CircleMarker object at 0x7f1794d62d30>, <folium.features.CircleMarker object at 0x7f1794d1e7b8>, <folium.features.CircleMarker object at 0x7f1794d1ed30>, <folium.features.CircleMarker object at 0x7f1794d1e780>, <folium.features.CircleMarker object at 0x7f1794d1e0b8>, <folium.features.CircleMarker object at 0x7f1794e0a9b0>, <folium.features.CircleMarker object at 0x7f1794d1e400>, <folium.features.CircleMarker object at 0x7f1794d2d588>, <folium.features.CircleMarker object at 0x7f1794d2ddd8>, <folium.features.CircleMarker object at 0x7f1794d2d390>, <folium.features.CircleMarker object at 0x7f1794d2dfd0>, <folium.features.CircleMarker object at 0x7f1794d2dc88>, <folium.features.CircleMarker object at 0x7f1794d2de10>, <folium.features.CircleMarker object at 0x7f1794d47be0>, <folium.features.CircleMarker object at 0x7f1794d471d0>, <folium.features.CircleMarker object at 0x7f1794d478d0>, <folium.features.CircleMarker object at 0x7f1794d47ba8>, <folium.features.CircleMarker object at 0x7f1794d475c0>, <folium.features.CircleMarker object at 0x7f1794d47160>, <folium.features.CircleMarker object at 0x7f1794d47978>, <folium.features.CircleMarker object at 0x7f1794d2d128>, <folium.features.CircleMarker object at 0x7f1794d2d198>, <folium.features.CircleMarker object at 0x7f1794d2dd30>, <folium.features.CircleMarker object at 0x7f1794d2d978>, <folium.features.CircleMarker object at 0x7f1794d2de80>, <folium.features.CircleMarker object at 0x7f1794d2d048>, <folium.features.CircleMarker object at 0x7f1794d2d9e8>, <folium.features.CircleMarker object at 0x7f1794d1b780>, <folium.features.CircleMarker object at 0x7f1794d1b710>, <folium.features.CircleMarker object at 0x7f1794d1b438>, <folium.features.CircleMarker object at 0x7f1794d2d518>, <folium.features.CircleMarker object at 0x7f1794d1e9e8>, <folium.features.CircleMarker object at 0x7f1794d1b2e8>, <folium.features.CircleMarker object at 0x7f1794d1b048>, <folium.features.CircleMarker object at 0x7f1794d1ba58>, <folium.features.CircleMarker object at 0x7f1794d47588>, <folium.features.CircleMarker object at 0x7f1794d476a0>, <folium.features.CircleMarker object at 0x7f1794d477f0>, <folium.features.CircleMarker object at 0x7f1794d47898>, <folium.features.CircleMarker object at 0x7f1794d47470>, <folium.features.CircleMarker object at 0x7f1794d47438>, <folium.features.CircleMarker object at 0x7f1794d470b8>, <folium.features.CircleMarker object at 0x7f1794d1be10>, <folium.features.CircleMarker object at 0x7f1794d47a58>, <folium.features.CircleMarker object at 0x7f1794d1be48>, <folium.features.CircleMarker object at 0x7f1794d1bcc0>, <folium.features.CircleMarker object at 0x7f1794d1b400>, <folium.features.CircleMarker object at 0x7f1794d1bb00>, <folium.features.CircleMarker object at 0x7f1794d1b128>, <folium.features.CircleMarker object at 0x7f1794cd8f98>, <folium.features.CircleMarker object at 0x7f1794cd8e48>, <folium.features.CircleMarker object at 0x7f1794cd8e10>, <folium.features.CircleMarker object at 0x7f1794cd8320>, <folium.features.CircleMarker object at 0x7f1794cd8860>, <folium.features.CircleMarker object at 0x7f1794d51b70>, <folium.features.CircleMarker object at 0x7f1794cd8da0>, <folium.features.CircleMarker object at 0x7f1794d1ef98>, <folium.features.CircleMarker object at 0x7f1794d1ebe0>, <folium.features.CircleMarker object at 0x7f1794cd8358>, <folium.features.CircleMarker object at 0x7f1794cd8c50>, <folium.features.CircleMarker object at 0x7f1794cd85c0>, <folium.features.CircleMarker object at 0x7f1794cd89b0>, <folium.features.CircleMarker object at 0x7f1794ceb9e8>, <folium.features.CircleMarker object at 0x7f1794ceb320>, <folium.features.CircleMarker object at 0x7f1794cebf60>, <folium.features.CircleMarker object at 0x7f1794ceb048>, <folium.features.CircleMarker object at 0x7f1794d479b0>, <folium.features.CircleMarker object at 0x7f1794d475f8>, <folium.features.CircleMarker object at 0x7f1794d1bb70>, <folium.features.CircleMarker object at 0x7f1794d1b198>, <folium.features.CircleMarker object at 0x7f1794d1b8d0>, <folium.features.CircleMarker object at 0x7f1794d1b940>, <folium.features.CircleMarker object at 0x7f1794d1b630>, <folium.features.CircleMarker object at 0x7f1794d1b7b8>, <folium.features.CircleMarker object at 0x7f1794d1bd68>, <folium.features.CircleMarker object at 0x7f1794cd82b0>, <folium.features.CircleMarker object at 0x7f1794cd8278>, <folium.features.CircleMarker object at 0x7f1794cd8c88>, <folium.features.CircleMarker object at 0x7f1794ceb940>, <folium.features.CircleMarker object at 0x7f1794cebef0>, <folium.features.CircleMarker object at 0x7f1794ceb710>, <folium.features.CircleMarker object at 0x7f1794cebe80>, <folium.features.CircleMarker object at 0x7f1794ceb828>, <folium.features.CircleMarker object at 0x7f1794cebb70>, <folium.features.CircleMarker object at 0x7f1794cf0240>, <folium.features.CircleMarker object at 0x7f1794cf08d0>, <folium.features.CircleMarker object at 0x7f1794cf0c18>, <folium.features.CircleMarker object at 0x7f1794cf0e48>, <folium.features.CircleMarker object at 0x7f1794cf04e0>, <folium.features.CircleMarker object at 0x7f1794cf0438>, <folium.features.CircleMarker object at 0x7f1794cf0320>, <folium.features.CircleMarker object at 0x7f1794ceb240>, <folium.features.CircleMarker object at 0x7f1794ceb160>, <folium.features.CircleMarker object at 0x7f1794ceb7f0>, <folium.features.CircleMarker object at 0x7f1794ceb2e8>, <folium.features.CircleMarker object at 0x7f1794cebeb8>, <folium.features.CircleMarker object at 0x7f1794ceb588>, <folium.features.CircleMarker object at 0x7f1794ceb4e0>, <folium.features.CircleMarker object at 0x7f1794ca9ef0>, <folium.features.CircleMarker object at 0x7f1794ca9f60>, <folium.features.CircleMarker object at 0x7f1794ca9e48>, <folium.features.CircleMarker object at 0x7f1794ca9908>, <folium.features.CircleMarker object at 0x7f1794cd8be0>, <folium.features.CircleMarker object at 0x7f1794ceb7b8>, <folium.features.CircleMarker object at 0x7f1794ceb908>, <folium.features.CircleMarker object at 0x7f1794cf0048>, <folium.features.CircleMarker object at 0x7f1794cf0128>, <folium.features.CircleMarker object at 0x7f1794cf0a90>, <folium.features.CircleMarker object at 0x7f1794cf07f0>, <folium.features.CircleMarker object at 0x7f1794cf02e8>, <folium.features.CircleMarker object at 0x7f1794cf07b8>, <folium.features.CircleMarker object at 0x7f1794cf0470>, <folium.features.CircleMarker object at 0x7f1794cbde48>, <folium.features.CircleMarker object at 0x7f1794cbdf98>, <folium.features.CircleMarker object at 0x7f1794cbde10>, <folium.features.CircleMarker object at 0x7f1794cf0fd0>, <folium.features.CircleMarker object at 0x7f1794cf09b0>, <folium.features.CircleMarker object at 0x7f1794cf0198>, <folium.features.CircleMarker object at 0x7f1794cbd668>, <folium.features.CircleMarker object at 0x7f1794ca9978>, <folium.features.CircleMarker object at 0x7f1794cbdac8>, <folium.features.CircleMarker object at 0x7f1794cbdb70>, <folium.features.CircleMarker object at 0x7f1794cbd748>, <folium.features.CircleMarker object at 0x7f1794cbd588>, <folium.features.CircleMarker object at 0x7f1794cbdc50>, <folium.features.CircleMarker object at 0x7f1794cbd2b0>, <folium.features.CircleMarker object at 0x7f1794cf06d8>, <folium.features.CircleMarker object at 0x7f1794ca9f28>, <folium.features.CircleMarker object at 0x7f1794cebd30>, <folium.features.CircleMarker object at 0x7f1794d2d6a0>, <folium.features.CircleMarker object at 0x7f1794cbda90>, <folium.features.CircleMarker object at 0x7f1794cbdf60>, <folium.features.CircleMarker object at 0x7f1794cbd438>, <folium.features.CircleMarker object at 0x7f1794cbde80>, <folium.features.CircleMarker object at 0x7f1794cbdda0>, <folium.features.CircleMarker object at 0x7f1794cbd898>, <folium.features.CircleMarker object at 0x7f1794cbab38>, <folium.features.CircleMarker object at 0x7f1794cba9b0>, <folium.features.CircleMarker object at 0x7f1794cba550>, <folium.features.CircleMarker object at 0x7f1794cd87b8>, <folium.features.CircleMarker object at 0x7f1794d472b0>, <folium.features.CircleMarker object at 0x7f1794cbabe0>, <folium.features.CircleMarker object at 0x7f1794d1b240>, <folium.features.CircleMarker object at 0x7f1794ca9080>, <folium.features.CircleMarker object at 0x7f1794ca9390>, <folium.features.CircleMarker object at 0x7f1794ca94e0>, <folium.features.CircleMarker object at 0x7f1794ca9cf8>, <folium.features.CircleMarker object at 0x7f1794ca9b00>, <folium.features.CircleMarker object at 0x7f1794ca92e8>, <folium.features.CircleMarker object at 0x7f1794ca99b0>, <folium.features.CircleMarker object at 0x7f1794ca9710>, <folium.features.CircleMarker object at 0x7f1794cba198>, <folium.features.CircleMarker object at 0x7f1794cbaa20>, <folium.features.CircleMarker object at 0x7f1794cba278>, <folium.features.CircleMarker object at 0x7f1794cba710>, <folium.features.CircleMarker object at 0x7f1794cbae10>, <folium.features.CircleMarker object at 0x7f1794cba0f0>, <folium.features.CircleMarker object at 0x7f1794cbafd0>, <folium.features.CircleMarker object at 0x7f1794c63f28>, <folium.features.CircleMarker object at 0x7f1794c63ef0>, <folium.features.CircleMarker object at 0x7f1794c635c0>, <folium.features.CircleMarker object at 0x7f1794c63208>, <folium.features.CircleMarker object at 0x7f1794c63630>, <folium.features.CircleMarker object at 0x7f1794d1e2e8>, <folium.features.CircleMarker object at 0x7f1794cd8470>, <folium.features.CircleMarker object at 0x7f1794cbdcc0>, <folium.features.CircleMarker object at 0x7f1794c63c50>, <folium.features.CircleMarker object at 0x7f1794c63f60>, <folium.features.CircleMarker object at 0x7f1794c63d68>, <folium.features.CircleMarker object at 0x7f1794c63240>, <folium.features.CircleMarker object at 0x7f1794c63be0>, <folium.features.CircleMarker object at 0x7f1794c63160>, <folium.features.CircleMarker object at 0x7f1794c70e80>, <folium.features.CircleMarker object at 0x7f1794c70b00>, <folium.features.CircleMarker object at 0x7f1794c702b0>, <folium.features.CircleMarker object at 0x7f1794cbd128>, <folium.features.CircleMarker object at 0x7f1794c70cf8>, <folium.features.CircleMarker object at 0x7f1794cba978>, <folium.features.CircleMarker object at 0x7f1794cbaf28>, <folium.features.CircleMarker object at 0x7f1794cba908>, <folium.features.CircleMarker object at 0x7f1794c70e48>, <folium.features.CircleMarker object at 0x7f1794c70048>, <folium.features.CircleMarker object at 0x7f1794c702e8>, <folium.features.CircleMarker object at 0x7f1794c70fd0>, <folium.features.CircleMarker object at 0x7f1794c70a90>, <folium.features.CircleMarker object at 0x7f1794c70550>, <folium.features.CircleMarker object at 0x7f1794cba8d0>, <folium.features.CircleMarker object at 0x7f1794cbab00>, <folium.features.CircleMarker object at 0x7f1794cba080>, <folium.features.CircleMarker object at 0x7f1794c63cf8>, <folium.features.CircleMarker object at 0x7f1794c63828>, <folium.features.CircleMarker object at 0x7f1794c63748>, <folium.features.CircleMarker object at 0x7f1794c637b8>, <folium.features.CircleMarker object at 0x7f1794c874a8>, <folium.features.CircleMarker object at 0x7f1794c879b0>, <folium.features.CircleMarker object at 0x7f1794c87908>, <folium.features.CircleMarker object at 0x7f1794c87a20>, <folium.features.CircleMarker object at 0x7f1794c870f0>, <folium.features.CircleMarker object at 0x7f1794c87710>, <folium.features.CircleMarker object at 0x7f1794c87828>, <folium.features.CircleMarker object at 0x7f1794c70da0>, <folium.features.CircleMarker object at 0x7f1794c70390>, <folium.features.CircleMarker object at 0x7f1794c70ac8>, <folium.features.CircleMarker object at 0x7f1794c706a0>, <folium.features.CircleMarker object at 0x7f1794c70320>, <folium.features.CircleMarker object at 0x7f1794c70198>, <folium.features.CircleMarker object at 0x7f1794c708d0>, <folium.features.CircleMarker object at 0x7f1794c83550>, <folium.features.CircleMarker object at 0x7f1794c837b8>, <folium.features.CircleMarker object at 0x7f1794c83780>, <folium.features.CircleMarker object at 0x7f1794cbdfd0>, <folium.features.CircleMarker object at 0x7f1794c70780>, <folium.features.CircleMarker object at 0x7f1794c83f98>, <folium.features.CircleMarker object at 0x7f1794c83198>, <folium.features.CircleMarker object at 0x7f1794c875c0>, <folium.features.CircleMarker object at 0x7f1794c83320>, <folium.features.CircleMarker object at 0x7f1794c830f0>, <folium.features.CircleMarker object at 0x7f1794c83eb8>, <folium.features.CircleMarker object at 0x7f1794c83a58>, <folium.features.CircleMarker object at 0x7f1794c83908>, <folium.features.CircleMarker object at 0x7f1794c83668>, <folium.features.CircleMarker object at 0x7f1794c17080>, <folium.features.CircleMarker object at 0x7f1794c17240>, <folium.features.CircleMarker object at 0x7f1794c17f28>, <folium.features.CircleMarker object at 0x7f1794c17fd0>, <folium.features.CircleMarker object at 0x7f1794c17c50>, <folium.features.CircleMarker object at 0x7f1794c87b00>, <folium.features.CircleMarker object at 0x7f1794c17400>, <folium.features.CircleMarker object at 0x7f1794c17da0>, <folium.features.CircleMarker object at 0x7f1794c83940>, <folium.features.CircleMarker object at 0x7f1794c83748>, <folium.features.CircleMarker object at 0x7f1794c832b0>, <folium.features.CircleMarker object at 0x7f1794c83cc0>, <folium.features.CircleMarker object at 0x7f1794c83c88>, <folium.features.CircleMarker object at 0x7f1794c83898>, <folium.features.CircleMarker object at 0x7f1794c83e48>, <folium.features.CircleMarker object at 0x7f1794c87780>, <folium.features.CircleMarker object at 0x7f1794c87f60>, <folium.features.CircleMarker object at 0x7f1794c87da0>, <folium.features.CircleMarker object at 0x7f1794c87f28>, <folium.features.CircleMarker object at 0x7f1794c87dd8>, <folium.features.CircleMarker object at 0x7f1794c17b70>, <folium.features.CircleMarker object at 0x7f1794c2f978>, <folium.features.CircleMarker object at 0x7f1794c2fd30>, <folium.features.CircleMarker object at 0x7f1794c2f550>, <folium.features.CircleMarker object at 0x7f1794c2ffd0>, <folium.features.CircleMarker object at 0x7f1794c2fb70>, <folium.features.CircleMarker object at 0x7f1794c2f898>, <folium.features.CircleMarker object at 0x7f1794c87d68>, <folium.features.CircleMarker object at 0x7f1794c877b8>, <folium.features.CircleMarker object at 0x7f1794c2f940>, <folium.features.CircleMarker object at 0x7f1794c2feb8>, <folium.features.CircleMarker object at 0x7f1794c2f860>, <folium.features.CircleMarker object at 0x7f1794c2fe80>, <folium.features.CircleMarker object at 0x7f1794c2f320>, <folium.features.CircleMarker object at 0x7f1794c2f518>, <folium.features.CircleMarker object at 0x7f1794c46400>, <folium.features.CircleMarker object at 0x7f1794c46080>, <folium.features.CircleMarker object at 0x7f1794c46e48>, <folium.features.CircleMarker object at 0x7f1794c469e8>, <folium.features.CircleMarker object at 0x7f1794c464e0>, <folium.features.CircleMarker object at 0x7f1794c468d0>, <folium.features.CircleMarker object at 0x7f1794c17f60>, <folium.features.CircleMarker object at 0x7f1794c172b0>, <folium.features.CircleMarker object at 0x7f1794c2fa90>, <folium.features.CircleMarker object at 0x7f1794c2f1d0>, <folium.features.CircleMarker object at 0x7f1794c2fb38>, <folium.features.CircleMarker object at 0x7f1794c2f3c8>, <folium.features.CircleMarker object at 0x7f1794c2fcf8>, <folium.features.CircleMarker object at 0x7f1794c17be0>, <folium.features.CircleMarker object at 0x7f1794c46240>, <folium.features.CircleMarker object at 0x7f1794c17dd8>, <folium.features.CircleMarker object at 0x7f1794c87320>, <folium.features.CircleMarker object at 0x7f1794c63320>, <folium.features.CircleMarker object at 0x7f1794c83b00>, <folium.features.CircleMarker object at 0x7f1794c70748>, <folium.features.CircleMarker object at 0x7f1794c46860>, <folium.features.CircleMarker object at 0x7f1794c46b70>, <folium.features.CircleMarker object at 0x7f1794c46048>, <folium.features.CircleMarker object at 0x7f1794c46ef0>, <folium.features.CircleMarker object at 0x7f1794bebeb8>, <folium.features.CircleMarker object at 0x7f1794beb358>, <folium.features.CircleMarker object at 0x7f1794bebda0>, <folium.features.CircleMarker object at 0x7f1794beb080>, <folium.features.CircleMarker object at 0x7f1794c87a58>, <folium.features.CircleMarker object at 0x7f1794c2fef0>, <folium.features.CircleMarker object at 0x7f1794c2f6d8>, <folium.features.CircleMarker object at 0x7f1794c175f8>, <folium.features.CircleMarker object at 0x7f1794c176d8>, <folium.features.CircleMarker object at 0x7f1794c17e10>, <folium.features.CircleMarker object at 0x7f1794c17e48>, <folium.features.CircleMarker object at 0x7f1794beb5c0>, <folium.features.CircleMarker object at 0x7f1794beb908>, <folium.features.CircleMarker object at 0x7f1794beb518>, <folium.features.CircleMarker object at 0x7f1794bebe48>, <folium.features.CircleMarker object at 0x7f1794bdec50>, <folium.features.CircleMarker object at 0x7f1794c70940>, <folium.features.CircleMarker object at 0x7f1794beb278>, <folium.features.CircleMarker object at 0x7f1794beb748>, <folium.features.CircleMarker object at 0x7f1794beb9b0>, <folium.features.CircleMarker object at 0x7f1794beb710>, <folium.features.CircleMarker object at 0x7f1794beb898>, <folium.features.CircleMarker object at 0x7f1794bebf60>, <folium.features.CircleMarker object at 0x7f1794bde4a8>, <folium.features.CircleMarker object at 0x7f1794bde550>, <folium.features.CircleMarker object at 0x7f1794bde9e8>, <folium.features.CircleMarker object at 0x7f1794bde0f0>, <folium.features.CircleMarker object at 0x7f1794bde160>, <folium.features.CircleMarker object at 0x7f1794bde7b8>, <folium.features.CircleMarker object at 0x7f1794bdec88>, <folium.features.CircleMarker object at 0x7f1794c46630>, <folium.features.CircleMarker object at 0x7f1794c466a0>, <folium.features.CircleMarker object at 0x7f1794c46dd8>, <folium.features.CircleMarker object at 0x7f1794c46f60>, <folium.features.CircleMarker object at 0x7f1794c46f28>, <folium.features.CircleMarker object at 0x7f1794bdedd8>, <folium.features.CircleMarker object at 0x7f1794c46c50>, <folium.features.CircleMarker object at 0x7f1794beeeb8>, <folium.features.CircleMarker object at 0x7f1794beeb00>, <folium.features.CircleMarker object at 0x7f1794c461d0>, <folium.features.CircleMarker object at 0x7f1794beb390>, <folium.features.CircleMarker object at 0x7f1794cba630>, <folium.features.CircleMarker object at 0x7f1794bee0b8>, <folium.features.CircleMarker object at 0x7f1794bee6a0>, <folium.features.CircleMarker object at 0x7f1794bde198>, <folium.features.CircleMarker object at 0x7f1794bde0b8>, <folium.features.CircleMarker object at 0x7f1794bdee10>, <folium.features.CircleMarker object at 0x7f1794bdecc0>, <folium.features.CircleMarker object at 0x7f1794bdebe0>, <folium.features.CircleMarker object at 0x7f1794bdee80>, <folium.features.CircleMarker object at 0x7f1794bde240>, <folium.features.CircleMarker object at 0x7f1794bde748>, <folium.features.CircleMarker object at 0x7f1794bdeac8>, <folium.features.CircleMarker object at 0x7f1794bee748>, <folium.features.CircleMarker object at 0x7f1794beeef0>, <folium.features.CircleMarker object at 0x7f1794bee358>, <folium.features.CircleMarker object at 0x7f1794bee7b8>, <folium.features.CircleMarker object at 0x7f1794bee2b0>, <folium.features.CircleMarker object at 0x7f1794b98438>, <folium.features.CircleMarker object at 0x7f1794b98dd8>, <folium.features.CircleMarker object at 0x7f1794b98080>, <folium.features.CircleMarker object at 0x7f1794b984e0>, <folium.features.CircleMarker object at 0x7f1794b98c18>, <folium.features.CircleMarker object at 0x7f1794b98a90>, <folium.features.CircleMarker object at 0x7f1794b98898>, <folium.features.CircleMarker object at 0x7f1794beefd0>, <folium.features.CircleMarker object at 0x7f1794bee160>, <folium.features.CircleMarker object at 0x7f1794beef28>, <folium.features.CircleMarker object at 0x7f1794beee48>, <folium.features.CircleMarker object at 0x7f1794beea90>, <folium.features.CircleMarker object at 0x7f1794b98da0>, <folium.features.CircleMarker object at 0x7f1794bee208>, <folium.features.CircleMarker object at 0x7f1794b9aeb8>, <folium.features.CircleMarker object at 0x7f1794b9a7f0>, <folium.features.CircleMarker object at 0x7f1794b9a208>, <folium.features.CircleMarker object at 0x7f1794b9a780>, <folium.features.CircleMarker object at 0x7f1794bebac8>, <folium.features.CircleMarker object at 0x7f1794b9aac8>, <folium.features.CircleMarker object at 0x7f1794b9a710>, <folium.features.CircleMarker object at 0x7f1794b98f60>, <folium.features.CircleMarker object at 0x7f1794b982e8>, <folium.features.CircleMarker object at 0x7f1794b98c50>, <folium.features.CircleMarker object at 0x7f1794b98048>, <folium.features.CircleMarker object at 0x7f1794b98c88>, <folium.features.CircleMarker object at 0x7f1794b98630>, <folium.features.CircleMarker object at 0x7f1794b98d68>, <folium.features.CircleMarker object at 0x7f1794bc30b8>, <folium.features.CircleMarker object at 0x7f1794bc3208>, <folium.features.CircleMarker object at 0x7f1794beb8d0>, <folium.features.CircleMarker object at 0x7f1794b98be0>, <folium.features.CircleMarker object at 0x7f1794bc3278>, <folium.features.CircleMarker object at 0x7f1794bc3e48>, <folium.features.CircleMarker object at 0x7f1794bc3550>, <folium.features.CircleMarker object at 0x7f1794bc3e80>, <folium.features.CircleMarker object at 0x7f1794b9a9b0>, <folium.features.CircleMarker object at 0x7f1794b9a550>, <folium.features.CircleMarker object at 0x7f1794b9ae48>, <folium.features.CircleMarker object at 0x7f1794b9a588>, <folium.features.CircleMarker object at 0x7f1794b9a6d8>, <folium.features.CircleMarker object at 0x7f1794b9a518>, <folium.features.CircleMarker object at 0x7f1794bc3f28>, <folium.features.CircleMarker object at 0x7f1794bc3a20>, <folium.features.CircleMarker object at 0x7f1794bc3a58>, <folium.features.CircleMarker object at 0x7f1794bc3860>, <folium.features.CircleMarker object at 0x7f1794bc3a90>, <folium.features.CircleMarker object at 0x7f1794bc3048>, <folium.features.CircleMarker object at 0x7f1794bc3da0>, <folium.features.CircleMarker object at 0x7f1794b629b0>, <folium.features.CircleMarker object at 0x7f1794b62d68>, <folium.features.CircleMarker object at 0x7f1794b62278>, <folium.features.CircleMarker object at 0x7f1794b62240>, <folium.features.CircleMarker object at 0x7f1794b62e80>, <folium.features.CircleMarker object at 0x7f1794b98668>, <folium.features.CircleMarker object at 0x7f1794bc3358>, <folium.features.CircleMarker object at 0x7f1794beebe0>, <folium.features.CircleMarker object at 0x7f1794bee3c8>, <folium.features.CircleMarker object at 0x7f1794bc39b0>, <folium.features.CircleMarker object at 0x7f1794bc3518>, <folium.features.CircleMarker object at 0x7f1794bc3240>, <folium.features.CircleMarker object at 0x7f1794b62400>, <folium.features.CircleMarker object at 0x7f1794b62ef0>, <folium.features.CircleMarker object at 0x7f1794b76438>, <folium.features.CircleMarker object at 0x7f1794b76128>, <folium.features.CircleMarker object at 0x7f1794b769e8>, <folium.features.CircleMarker object at 0x7f1794b76908>, <folium.features.CircleMarker object at 0x7f1794b9a048>, <folium.features.CircleMarker object at 0x7f1794b9a940>, <folium.features.CircleMarker object at 0x7f1794b9a358>, <folium.features.CircleMarker object at 0x7f1794b9af28>, <folium.features.CircleMarker object at 0x7f1794b621d0>, <folium.features.CircleMarker object at 0x7f1794b62550>, <folium.features.CircleMarker object at 0x7f1794b62588>, <folium.features.CircleMarker object at 0x7f1794b623c8>, <folium.features.CircleMarker object at 0x7f1794b62780>, <folium.features.CircleMarker object at 0x7f1794b629e8>, <folium.features.CircleMarker object at 0x7f1794b76c50>, <folium.features.CircleMarker object at 0x7f1794bc3b38>, <folium.features.CircleMarker object at 0x7f1794bee6d8>, <folium.features.CircleMarker object at 0x7f1794bdefd0>, <folium.features.CircleMarker object at 0x7f1794b76048>, <folium.features.CircleMarker object at 0x7f1794b62b38>, <folium.features.CircleMarker object at 0x7f1794b76be0>, <folium.features.CircleMarker object at 0x7f1794b76c18>, <folium.features.CircleMarker object at 0x7f1794b76e80>, <folium.features.CircleMarker object at 0x7f1794b767f0>, <folium.features.CircleMarker object at 0x7f1794b73f28>, <folium.features.CircleMarker object at 0x7f1794b73390>, <folium.features.CircleMarker object at 0x7f1794b739b0>, <folium.features.CircleMarker object at 0x7f1794b73f60>, <folium.features.CircleMarker object at 0x7f1794b98978>, <folium.features.CircleMarker object at 0x7f1794b9a400>, <folium.features.CircleMarker object at 0x7f1794b62fd0>, <folium.features.CircleMarker object at 0x7f1794b9a3c8>, <folium.features.CircleMarker object at 0x7f1794b62898>, <folium.features.CircleMarker object at 0x7f1794b62518>, <folium.features.CircleMarker object at 0x7f1794b764e0>, <folium.features.CircleMarker object at 0x7f1794b76748>, <folium.features.CircleMarker object at 0x7f1794b768d0>, <folium.features.CircleMarker object at 0x7f1794b76e48>, <folium.features.CircleMarker object at 0x7f1794b5ec88>, <folium.features.CircleMarker object at 0x7f1794b5e710>, <folium.features.CircleMarker object at 0x7f1794b9aef0>, <folium.features.CircleMarker object at 0x7f1794b766a0>, <folium.features.CircleMarker object at 0x7f1794b5ea90>, <folium.features.CircleMarker object at 0x7f1794b5eb38>, <folium.features.CircleMarker object at 0x7f1794b5ec18>, <folium.features.CircleMarker object at 0x7f1794b5e198>, <folium.features.CircleMarker object at 0x7f1794b73748>, <folium.features.CircleMarker object at 0x7f1794b735c0>, <folium.features.CircleMarker object at 0x7f1794b73780>, <folium.features.CircleMarker object at 0x7f1794b73710>, <folium.features.CircleMarker object at 0x7f1794b73ba8>, <folium.features.CircleMarker object at 0x7f1794b76710>, <folium.features.CircleMarker object at 0x7f1794b76b70>, <folium.features.CircleMarker object at 0x7f1794b5e2e8>, <folium.features.CircleMarker object at 0x7f1794b5eeb8>, <folium.features.CircleMarker object at 0x7f1794b5eb70>, <folium.features.CircleMarker object at 0x7f1794b5ecf8>, <folium.features.CircleMarker object at 0x7f1794b5e438>, <folium.features.CircleMarker object at 0x7f1794b5e908>, <folium.features.CircleMarker object at 0x7f1794b1fc18>, <folium.features.CircleMarker object at 0x7f1794b1f5f8>, <folium.features.CircleMarker object at 0x7f1794b1f8d0>, <folium.features.CircleMarker object at 0x7f1794b1fef0>, <folium.features.CircleMarker object at 0x7f1794b1f7f0>, <folium.features.CircleMarker object at 0x7f1794b1f400>, <folium.features.CircleMarker object at 0x7f1794b5eac8>, <folium.features.CircleMarker object at 0x7f1794b5e518>, <folium.features.CircleMarker object at 0x7f1794b5e208>, <folium.features.CircleMarker object at 0x7f1794b5e630>, <folium.features.CircleMarker object at 0x7f1794b5ea20>, <folium.features.CircleMarker object at 0x7f1794b5ed68>, <folium.features.CircleMarker object at 0x7f1794b73be0>, <folium.features.CircleMarker object at 0x7f1794b73198>, <folium.features.CircleMarker object at 0x7f1794b0e780>, <folium.features.CircleMarker object at 0x7f1794b0e710>, <folium.features.CircleMarker object at 0x7f1794b0ef60>, <folium.features.CircleMarker object at 0x7f1794b73908>, <folium.features.CircleMarker object at 0x7f1794b0e6d8>, <folium.features.CircleMarker object at 0x7f1794b0e978>, <folium.features.CircleMarker object at 0x7f1794b0e048>, <folium.features.CircleMarker object at 0x7f1794b0eac8>, <folium.features.CircleMarker object at 0x7f1794b1ff28>, <folium.features.CircleMarker object at 0x7f1794b1f278>, <folium.features.CircleMarker object at 0x7f1794b1feb8>, <folium.features.CircleMarker object at 0x7f1794b1fba8>, <folium.features.CircleMarker object at 0x7f1794b1ff98>, <folium.features.CircleMarker object at 0x7f1794b1f2b0>, <folium.features.CircleMarker object at 0x7f1794b736d8>, <folium.features.CircleMarker object at 0x7f1794b0ee10>, <folium.features.CircleMarker object at 0x7f1794b0e160>, <folium.features.CircleMarker object at 0x7f1794b0e748>, <folium.features.CircleMarker object at 0x7f1794b0e550>, <folium.features.CircleMarker object at 0x7f1794b0ef28>, <folium.features.CircleMarker object at 0x7f1794b0e7b8>, <folium.features.CircleMarker object at 0x7f1794b0ed30>, <folium.features.CircleMarker object at 0x7f1794b33f98>, <folium.features.CircleMarker object at 0x7f1794b33e48>, <folium.features.CircleMarker object at 0x7f1794b33e10>, <folium.features.CircleMarker object at 0x7f1794b33320>, <folium.features.CircleMarker object at 0x7f1794b33860>, <folium.features.CircleMarker object at 0x7f1794b0ea58>, <folium.features.CircleMarker object at 0x7f1794b0ee80>, <folium.features.CircleMarker object at 0x7f1794b0ee48>, <folium.features.CircleMarker object at 0x7f1794b1fa20>, <folium.features.CircleMarker object at 0x7f1794b1fdd8>, <folium.features.CircleMarker object at 0x7f1794b1f5c0>, <folium.features.CircleMarker object at 0x7f1794b1fda0>, <folium.features.CircleMarker object at 0x7f1794b33d68>, <folium.features.CircleMarker object at 0x7f1794aed9e8>, <folium.features.CircleMarker object at 0x7f1794aed320>, <folium.features.CircleMarker object at 0x7f1794aedf60>, <folium.features.CircleMarker object at 0x7f1794b1f588>, <folium.features.CircleMarker object at 0x7f1794b0ecc0>, <folium.features.CircleMarker object at 0x7f1794aed940>, <folium.features.CircleMarker object at 0x7f1794aed748>, <folium.features.CircleMarker object at 0x7f1794aedb00>, <folium.features.CircleMarker object at 0x7f1794b33c88>, <folium.features.CircleMarker object at 0x7f1794b33160>, <folium.features.CircleMarker object at 0x7f1794b334a8>, <folium.features.CircleMarker object at 0x7f1794b33438>, <folium.features.CircleMarker object at 0x7f1794b33e80>, <folium.features.CircleMarker object at 0x7f1794b335c0>, <folium.features.CircleMarker object at 0x7f1794b33a90>, <folium.features.CircleMarker object at 0x7f1794b0e0b8>, <folium.features.CircleMarker object at 0x7f1794b339e8>, <folium.features.CircleMarker object at 0x7f1794b337b8>, <folium.features.CircleMarker object at 0x7f1794b33630>, <folium.features.CircleMarker object at 0x7f1794b336a0>, <folium.features.CircleMarker object at 0x7f1794aed518>, <folium.features.CircleMarker object at 0x7f1794aed0f0>, <folium.features.CircleMarker object at 0x7f1794afa240>, <folium.features.CircleMarker object at 0x7f1794afa8d0>, <folium.features.CircleMarker object at 0x7f1794afac18>, <folium.features.CircleMarker object at 0x7f1794afae48>, <folium.features.CircleMarker object at 0x7f1794afa4e0>, <folium.features.CircleMarker object at 0x7f1794afa438>, <folium.features.CircleMarker object at 0x7f1794afaba8>, <folium.features.CircleMarker object at 0x7f1794aedef0>, <folium.features.CircleMarker object at 0x7f1794aedac8>, <folium.features.CircleMarker object at 0x7f1794aed128>, <folium.features.CircleMarker object at 0x7f1794aed588>, <folium.features.CircleMarker object at 0x7f1794aed5c0>, <folium.features.CircleMarker object at 0x7f1794aedb38>, <folium.features.CircleMarker object at 0x7f1794aed4e0>, <folium.features.CircleMarker object at 0x7f1794b06ef0>, <folium.features.CircleMarker object at 0x7f1794b06f60>, <folium.features.CircleMarker object at 0x7f1794b06e48>, <folium.features.CircleMarker object at 0x7f1794b06908>, <folium.features.CircleMarker object at 0x7f1794aedd68>, <folium.features.CircleMarker object at 0x7f1794aed358>, <folium.features.CircleMarker object at 0x7f1794aed8d0>, <folium.features.CircleMarker object at 0x7f1794afad68>, <folium.features.CircleMarker object at 0x7f1794afa7b8>, <folium.features.CircleMarker object at 0x7f1794afacc0>, <folium.features.CircleMarker object at 0x7f1794afae80>, <folium.features.CircleMarker object at 0x7f1794afa128>, <folium.features.CircleMarker object at 0x7f1794afa7f0>, <folium.features.CircleMarker object at 0x7f1794afa160>, <folium.features.CircleMarker object at 0x7f1794aa3e48>, <folium.features.CircleMarker object at 0x7f1794aa3518>, <folium.features.CircleMarker object at 0x7f1794aa3080>, <folium.features.CircleMarker object at 0x7f1794aa3898>, <folium.features.CircleMarker object at 0x7f1794aa32e8>, <folium.features.CircleMarker object at 0x7f1794aa30f0>, <folium.features.CircleMarker object at 0x7f1794aa36d8>, <folium.features.CircleMarker object at 0x7f1794b06ac8>, <folium.features.CircleMarker object at 0x7f1794aedd30>, <folium.features.CircleMarker object at 0x7f1794b330b8>, <folium.features.CircleMarker object at 0x7f1794b5e1d0>, <folium.features.CircleMarker object at 0x7f1794b73128>, <folium.features.CircleMarker object at 0x7f1794afa2e8>, <folium.features.CircleMarker object at 0x7f1794aa3c50>, <folium.features.CircleMarker object at 0x7f1794aa39b0>, <folium.features.CircleMarker object at 0x7f1794b0e0f0>, <folium.features.CircleMarker object at 0x7f1794b067b8>, <folium.features.CircleMarker object at 0x7f1794b06b70>, <folium.features.CircleMarker object at 0x7f1794aa3160>, <folium.features.CircleMarker object at 0x7f1794aa3e10>, <folium.features.CircleMarker object at 0x7f1794aa3ba8>, <folium.features.CircleMarker object at 0x7f1794aa3f60>, <folium.features.CircleMarker object at 0x7f1794aa38d0>, <folium.features.CircleMarker object at 0x7f1794aa3320>, <folium.features.CircleMarker object at 0x7f1794aa36a0>, <folium.features.CircleMarker object at 0x7f1794a97dd8>, <folium.features.CircleMarker object at 0x7f1794a97828>, <folium.features.CircleMarker object at 0x7f1794a97c18>, <folium.features.CircleMarker object at 0x7f1794aa3550>, <folium.features.CircleMarker object at 0x7f1794a97588>, <folium.features.CircleMarker object at 0x7f1794a972e8>, <folium.features.CircleMarker object at 0x7f1794a97f28>, <folium.features.CircleMarker object at 0x7f1794b06400>, <folium.features.CircleMarker object at 0x7f1794b1f630>, <folium.features.CircleMarker object at 0x7f1794b06588>, <folium.features.CircleMarker object at 0x7f1794b060b8>, <folium.features.CircleMarker object at 0x7f1794b06f28>, <folium.features.CircleMarker object at 0x7f1794b06390>, <folium.features.CircleMarker object at 0x7f1794b062e8>, <folium.features.CircleMarker object at 0x7f1794aa3128>, <folium.features.CircleMarker object at 0x7f1794a97ba8>, <folium.features.CircleMarker object at 0x7f1794a97668>, <folium.features.CircleMarker object at 0x7f1794a97400>, <folium.features.CircleMarker object at 0x7f1794a97470>, <folium.features.CircleMarker object at 0x7f1794a975f8>, <folium.features.CircleMarker object at 0x7f1794a97a20>, <folium.features.CircleMarker object at 0x7f1794a9c390>, <folium.features.CircleMarker object at 0x7f1794a9c630>, <folium.features.CircleMarker object at 0x7f1794a9ce10>, <folium.features.CircleMarker object at 0x7f1794a9ceb8>, <folium.features.CircleMarker object at 0x7f1794b06b00>, <folium.features.CircleMarker object at 0x7f1794a9c668>, <folium.features.CircleMarker object at 0x7f1794a9c5f8>, <folium.features.CircleMarker object at 0x7f1794a9ca58>, <folium.features.CircleMarker object at 0x7f1794a97c50>, <folium.features.CircleMarker object at 0x7f1794a97630>, <folium.features.CircleMarker object at 0x7f1794a971d0>, <folium.features.CircleMarker object at 0x7f1794a97208>, <folium.features.CircleMarker object at 0x7f1794a97198>, <folium.features.CircleMarker object at 0x7f1794a97ef0>, <folium.features.CircleMarker object at 0x7f1794a617b8>, <folium.features.CircleMarker object at 0x7f1794a61710>, <folium.features.CircleMarker object at 0x7f1794a61470>, <folium.features.CircleMarker object at 0x7f1794afa828>, <folium.features.CircleMarker object at 0x7f1794b06358>, <folium.features.CircleMarker object at 0x7f1794a61940>, <folium.features.CircleMarker object at 0x7f1794a611d0>, <folium.features.CircleMarker object at 0x7f1794a61eb8>, <folium.features.CircleMarker object at 0x7f1794a9c358>, <folium.features.CircleMarker object at 0x7f1794a9c5c0>, <folium.features.CircleMarker object at 0x7f1794a9cc18>, <folium.features.CircleMarker object at 0x7f1794a9c470>, <folium.features.CircleMarker object at 0x7f1794a9cef0>, <folium.features.CircleMarker object at 0x7f1794a9cac8>, <folium.features.CircleMarker object at 0x7f1794a9cdd8>, <folium.features.CircleMarker object at 0x7f1794a61978>, <folium.features.CircleMarker object at 0x7f1794a61208>, <folium.features.CircleMarker object at 0x7f1794a61518>, <folium.features.CircleMarker object at 0x7f1794a61ba8>, <folium.features.CircleMarker object at 0x7f1794a61a90>, <folium.features.CircleMarker object at 0x7f1794a615f8>, <folium.features.CircleMarker object at 0x7f1794a68e10>, <folium.features.CircleMarker object at 0x7f1794a68358>, <folium.features.CircleMarker object at 0x7f1794a68b00>, <folium.features.CircleMarker object at 0x7f1794a68080>, <folium.features.CircleMarker object at 0x7f1794a68198>, <folium.features.CircleMarker object at 0x7f1794a689e8>, <folium.features.CircleMarker object at 0x7f1794a97978>, <folium.features.CircleMarker object at 0x7f1794afa320>, <folium.features.CircleMarker object at 0x7f1794a9cb00>, <folium.features.CircleMarker object at 0x7f1794a9c9b0>, <folium.features.CircleMarker object at 0x7f1794a9c0f0>, <folium.features.CircleMarker object at 0x7f1794a61668>, <folium.features.CircleMarker object at 0x7f1794a684a8>, <folium.features.CircleMarker object at 0x7f1794a68cc0>, <folium.features.CircleMarker object at 0x7f1794a4fa20>, <folium.features.CircleMarker object at 0x7f1794a4f358>, <folium.features.CircleMarker object at 0x7f1794a4fef0>, <folium.features.CircleMarker object at 0x7f1794aed780>, <folium.features.CircleMarker object at 0x7f1794a4f860>, <folium.features.CircleMarker object at 0x7f1794a61828>, <folium.features.CircleMarker object at 0x7f1794a61b38>, <folium.features.CircleMarker object at 0x7f1794a61b00>, <folium.features.CircleMarker object at 0x7f1794a61080>, <folium.features.CircleMarker object at 0x7f1794a68a58>, <folium.features.CircleMarker object at 0x7f1794a68470>, <folium.features.CircleMarker object at 0x7f1794a68da0>, <folium.features.CircleMarker object at 0x7f1794a682b0>, <folium.features.CircleMarker object at 0x7f1794a687f0>, <folium.features.CircleMarker object at 0x7f1794a68f98>, <folium.features.CircleMarker object at 0x7f1794a68860>, <folium.features.CircleMarker object at 0x7f1794a4fe80>, <folium.features.CircleMarker object at 0x7f1794a4f550>, <folium.features.CircleMarker object at 0x7f1794a4f160>, <folium.features.CircleMarker object at 0x7f1794a4f278>, <folium.features.CircleMarker object at 0x7f1794a4f588>, <folium.features.CircleMarker object at 0x7f1794a4fcc0>, <folium.features.CircleMarker object at 0x7f1794a87278>, <folium.features.CircleMarker object at 0x7f1794a870b8>, <folium.features.CircleMarker object at 0x7f1794a87a20>, <folium.features.CircleMarker object at 0x7f1794a871d0>, <folium.features.CircleMarker object at 0x7f1794a87dd8>, <folium.features.CircleMarker object at 0x7f1794a87710>, <folium.features.CircleMarker object at 0x7f1794a87e80>, <folium.features.CircleMarker object at 0x7f1794a4f0f0>, <folium.features.CircleMarker object at 0x7f1794a4fe48>, <folium.features.CircleMarker object at 0x7f1794a4f780>, <folium.features.CircleMarker object at 0x7f1794a4f1d0>, <folium.features.CircleMarker object at 0x7f1794a4f080>, <folium.features.CircleMarker object at 0x7f1794a4f320>, <folium.features.CircleMarker object at 0x7f1794a0e5c0>, <folium.features.CircleMarker object at 0x7f1794a0e1d0>, <folium.features.CircleMarker object at 0x7f1794a0eef0>, <folium.features.CircleMarker object at 0x7f1794a0eba8>, <folium.features.CircleMarker object at 0x7f1794a0ee80>, <folium.features.CircleMarker object at 0x7f1794a68ac8>, <folium.features.CircleMarker object at 0x7f1794a0e550>, <folium.features.CircleMarker object at 0x7f1794a0e630>, <folium.features.CircleMarker object at 0x7f1794a87b00>, <folium.features.CircleMarker object at 0x7f1794a87be0>, <folium.features.CircleMarker object at 0x7f1794a879b0>, <folium.features.CircleMarker object at 0x7f1794a87898>, <folium.features.CircleMarker object at 0x7f1794a87518>, <folium.features.CircleMarker object at 0x7f1794a87c88>, <folium.features.CircleMarker object at 0x7f1794a87390>, <folium.features.CircleMarker object at 0x7f1794a34e80>, <folium.features.CircleMarker object at 0x7f1794a34b00>, <folium.features.CircleMarker object at 0x7f1794a34e48>, <folium.features.CircleMarker object at 0x7f1794a341d0>, <folium.features.CircleMarker object at 0x7f1794a344e0>, <folium.features.CircleMarker object at 0x7f1794a34320>, <folium.features.CircleMarker object at 0x7f1794a0e710>, <folium.features.CircleMarker object at 0x7f1794a4fd68>, <folium.features.CircleMarker object at 0x7f1794a4f470>, <folium.features.CircleMarker object at 0x7f1794a0ecf8>, <folium.features.CircleMarker object at 0x7f1794a61278>, <folium.features.CircleMarker object at 0x7f1794a0e5f8>, <folium.features.CircleMarker object at 0x7f1794a0e400>, <folium.features.CircleMarker object at 0x7f1794a0e780>, <folium.features.CircleMarker object at 0x7f1794a0ed68>, <folium.features.CircleMarker object at 0x7f1794a0e748>, <folium.features.CircleMarker object at 0x7f1794a0e828>, <folium.features.CircleMarker object at 0x7f1794a34fd0>, <folium.features.CircleMarker object at 0x7f1794a34668>, <folium.features.CircleMarker object at 0x7f1794a34a90>, <folium.features.CircleMarker object at 0x7f1794a34c50>, <folium.features.CircleMarker object at 0x7f1794a34470>, <folium.features.CircleMarker object at 0x7f1794a34ac8>, <folium.features.CircleMarker object at 0x7f1794a34390>, <folium.features.CircleMarker object at 0x7f1794a4ae10>, <folium.features.CircleMarker object at 0x7f1794a4a668>, <folium.features.CircleMarker object at 0x7f1794a4add8>, <folium.features.CircleMarker object at 0x7f1794a4a5f8>, <folium.features.CircleMarker object at 0x7f1794a4a518>, <folium.features.CircleMarker object at 0x7f1794a34f98>, <folium.features.CircleMarker object at 0x7f1794a68320>, <folium.features.CircleMarker object at 0x7f1794a0e908>, <folium.features.CircleMarker object at 0x7f1794a0e080>, <folium.features.CircleMarker object at 0x7f1794a87550>, <folium.features.CircleMarker object at 0x7f1794a87470>, <folium.features.CircleMarker object at 0x7f1794a87048>, <folium.features.CircleMarker object at 0x7f1794a4ac88>, <folium.features.CircleMarker object at 0x7f1794a4a1d0>, <folium.features.CircleMarker object at 0x7f1794a68128>, <folium.features.CircleMarker object at 0x7f1794a4ae48>, <folium.features.CircleMarker object at 0x7f1794a4afd0>, <folium.features.CircleMarker object at 0x7f1794a4a400>, <folium.features.CircleMarker object at 0x7f1794a4ab38>, <folium.features.CircleMarker object at 0x7f1794a4ac18>, <folium.features.CircleMarker object at 0x7f1794a4a940>, <folium.features.CircleMarker object at 0x7f17949e9f98>, <folium.features.CircleMarker object at 0x7f17949e9128>, <folium.features.CircleMarker object at 0x7f17949e9cf8>, <folium.features.CircleMarker object at 0x7f17949e9390>, <folium.features.CircleMarker object at 0x7f17949e9198>, <folium.features.CircleMarker object at 0x7f17949e9400>, <folium.features.CircleMarker object at 0x7f1794a9c908>, <folium.features.CircleMarker object at 0x7f1794a61e80>, <folium.features.CircleMarker object at 0x7f17949e9470>, <folium.features.CircleMarker object at 0x7f17949e9f60>, <folium.features.CircleMarker object at 0x7f17949e9160>, <folium.features.CircleMarker object at 0x7f17949e9550>, <folium.features.CircleMarker object at 0x7f17949e96a0>, <folium.features.CircleMarker object at 0x7f17949e9b70>, <folium.features.CircleMarker object at 0x7f17949e6668>, <folium.features.CircleMarker object at 0x7f17949e6240>, <folium.features.CircleMarker object at 0x7f17949e6dd8>, <folium.features.CircleMarker object at 0x7f1794a619b0>, <folium.features.CircleMarker object at 0x7f17949e6710>, <folium.features.CircleMarker object at 0x7f1794a346a0>, <folium.features.CircleMarker object at 0x7f1794a345c0>, <folium.features.CircleMarker object at 0x7f17949e6438>, <folium.features.CircleMarker object at 0x7f1794a4aa20>, <folium.features.CircleMarker object at 0x7f1794a4a630>, <folium.features.CircleMarker object at 0x7f1794a4af98>, <folium.features.CircleMarker object at 0x7f1794a4a4e0>, <folium.features.CircleMarker object at 0x7f17949e6320>, <folium.features.CircleMarker object at 0x7f17949e6630>, <folium.features.CircleMarker object at 0x7f17949e7cf8>, <folium.features.CircleMarker object at 0x7f1794a340b8>, <folium.features.CircleMarker object at 0x7f1794a34a58>, <folium.features.CircleMarker object at 0x7f1794a34588>, <folium.features.CircleMarker object at 0x7f17949e9898>, <folium.features.CircleMarker object at 0x7f17949e9978>, <folium.features.CircleMarker object at 0x7f17949e66d8>, <folium.features.CircleMarker object at 0x7f17949e6e48>, <folium.features.CircleMarker object at 0x7f17949e77b8>, <folium.features.CircleMarker object at 0x7f17949e79e8>, <folium.features.CircleMarker object at 0x7f17949e7128>, <folium.features.CircleMarker object at 0x7f17949e7400>, <folium.features.CircleMarker object at 0x7f17949e7550>, <folium.features.CircleMarker object at 0x7f17949e7940>, <folium.features.CircleMarker object at 0x7f17949e6518>, <folium.features.CircleMarker object at 0x7f17949e7470>, <folium.features.CircleMarker object at 0x7f17949e79b0>, <folium.features.CircleMarker object at 0x7f17949e71d0>, <folium.features.CircleMarker object at 0x7f17949e7da0>, <folium.features.CircleMarker object at 0x7f17949e75f8>, <folium.features.CircleMarker object at 0x7f17949e75c0>, <folium.features.CircleMarker object at 0x7f1794994c88>, <folium.features.CircleMarker object at 0x7f1794994b00>, <folium.features.CircleMarker object at 0x7f1794994dd8>, <folium.features.CircleMarker object at 0x7f1794994860>, <folium.features.CircleMarker object at 0x7f17949942b0>, <folium.features.CircleMarker object at 0x7f17949e9588>, <folium.features.CircleMarker object at 0x7f17949e93c8>, <folium.features.CircleMarker object at 0x7f17949946a0>, <folium.features.CircleMarker object at 0x7f17949e74a8>, <folium.features.CircleMarker object at 0x7f17949e7908>, <folium.features.CircleMarker object at 0x7f17949e7898>, <folium.features.CircleMarker object at 0x7f17949e7b38>, <folium.features.CircleMarker object at 0x7f1794994f98>, <folium.features.CircleMarker object at 0x7f1794994908>, <folium.features.CircleMarker object at 0x7f17949b2cf8>, <folium.features.CircleMarker object at 0x7f17949b2390>, <folium.features.CircleMarker object at 0x7f17949b2f28>, <folium.features.CircleMarker object at 0x7f17949b2588>, <folium.features.CircleMarker object at 0x7f17949b2e80>, <folium.features.CircleMarker object at 0x7f17949e6940>, <folium.features.CircleMarker object at 0x7f17949e66a0>, <folium.features.CircleMarker object at 0x7f17949e6748>, <folium.features.CircleMarker object at 0x7f1794994898>, <folium.features.CircleMarker object at 0x7f1794994e80>, <folium.features.CircleMarker object at 0x7f1794994400>, <folium.features.CircleMarker object at 0x7f1794994748>, <folium.features.CircleMarker object at 0x7f1794994358>, <folium.features.CircleMarker object at 0x7f1794994be0>, <folium.features.CircleMarker object at 0x7f1794994a58>, <folium.features.CircleMarker object at 0x7f17949b21d0>, <folium.features.CircleMarker object at 0x7f17949b2978>, <folium.features.CircleMarker object at 0x7f17949b2940>, <folium.features.CircleMarker object at 0x7f17949b2b38>, <folium.features.CircleMarker object at 0x7f17949b2a90>, <folium.features.CircleMarker object at 0x7f17949b27b8>, <folium.features.CircleMarker object at 0x7f17949c8e48>, <folium.features.CircleMarker object at 0x7f17949c8390>, <folium.features.CircleMarker object at 0x7f17949c8748>, <folium.features.CircleMarker object at 0x7f17949c8128>, <folium.features.CircleMarker object at 0x7f17949c8dd8>, <folium.features.CircleMarker object at 0x7f17949c88d0>, <folium.features.CircleMarker object at 0x7f17949b2b00>, <folium.features.CircleMarker object at 0x7f17949945f8>, <folium.features.CircleMarker object at 0x7f1794994630>, <folium.features.CircleMarker object at 0x7f17949e62e8>, <folium.features.CircleMarker object at 0x7f17949e6470>, <folium.features.CircleMarker object at 0x7f17949e65f8>, <folium.features.CircleMarker object at 0x7f17949b2208>, <folium.features.CircleMarker object at 0x7f17949b27f0>, <folium.features.CircleMarker object at 0x7f17949cdcf8>, <folium.features.CircleMarker object at 0x7f17949cd240>, <folium.features.CircleMarker object at 0x7f17949cdf28>, <folium.features.CircleMarker object at 0x7f17949cd748>, <folium.features.CircleMarker object at 0x7f17949cd208>, <folium.features.CircleMarker object at 0x7f17949cd5c0>, <folium.features.CircleMarker object at 0x7f17949cd9e8>, <folium.features.CircleMarker object at 0x7f17949cd3c8>, <folium.features.CircleMarker object at 0x7f17949c89e8>, <folium.features.CircleMarker object at 0x7f17949e6c50>, <folium.features.CircleMarker object at 0x7f17949942e8>, <folium.features.CircleMarker object at 0x7f17949e9940>, <folium.features.CircleMarker object at 0x7f17949e9ef0>, <folium.features.CircleMarker object at 0x7f17949b2f98>, <folium.features.CircleMarker object at 0x7f17949b2da0>, <folium.features.CircleMarker object at 0x7f17949e7390>, <folium.features.CircleMarker object at 0x7f17949c8b00>, <folium.features.CircleMarker object at 0x7f17949c84e0>, <folium.features.CircleMarker object at 0x7f17949c8908>, <folium.features.CircleMarker object at 0x7f17949cd4a8>, <folium.features.CircleMarker object at 0x7f17949cdcc0>, <folium.features.CircleMarker object at 0x7f17949cda58>, <folium.features.CircleMarker object at 0x7f17949cdbe0>, <folium.features.CircleMarker object at 0x7f17949cdb70>, <folium.features.CircleMarker object at 0x7f17949cd978>, <folium.features.CircleMarker object at 0x7f1794969be0>, <folium.features.CircleMarker object at 0x7f1794969748>, <folium.features.CircleMarker object at 0x7f1794969f60>, <folium.features.CircleMarker object at 0x7f17949695f8>, <folium.features.CircleMarker object at 0x7f17949697b8>, <folium.features.CircleMarker object at 0x7f17949cd668>, <folium.features.CircleMarker object at 0x7f17949e7cc0>, <folium.features.CircleMarker object at 0x7f1794969cc0>, <folium.features.CircleMarker object at 0x7f17949c86a0>, <folium.features.CircleMarker object at 0x7f1794969d68>, <folium.features.CircleMarker object at 0x7f1794969898>, <folium.features.CircleMarker object at 0x7f17949699b0>, <folium.features.CircleMarker object at 0x7f1794969828>, <folium.features.CircleMarker object at 0x7f1794969550>, <folium.features.CircleMarker object at 0x7f1794969c88>, <folium.features.CircleMarker object at 0x7f1794963320>, <folium.features.CircleMarker object at 0x7f1794963278>, <folium.features.CircleMarker object at 0x7f17949634a8>, <folium.features.CircleMarker object at 0x7f1794a4ada0>, <folium.features.CircleMarker object at 0x7f17949c8630>, <folium.features.CircleMarker object at 0x7f17949c80b8>, <folium.features.CircleMarker object at 0x7f17949639b0>, <folium.features.CircleMarker object at 0x7f17949630b8>, <folium.features.CircleMarker object at 0x7f1794969ba8>, <folium.features.CircleMarker object at 0x7f1794969208>, <folium.features.CircleMarker object at 0x7f17949699e8>, <folium.features.CircleMarker object at 0x7f17949698d0>, <folium.features.CircleMarker object at 0x7f1794969d30>, <folium.features.CircleMarker object at 0x7f1794969400>, <folium.features.CircleMarker object at 0x7f1794963ef0>, <folium.features.CircleMarker object at 0x7f17949cd438>, <folium.features.CircleMarker object at 0x7f17949cd2b0>, <folium.features.CircleMarker object at 0x7f1794963710>, <folium.features.CircleMarker object at 0x7f1794963470>, <folium.features.CircleMarker object at 0x7f1794963f28>, <folium.features.CircleMarker object at 0x7f1794963358>, <folium.features.CircleMarker object at 0x7f17949836a0>, <folium.features.CircleMarker object at 0x7f17949832e8>, <folium.features.CircleMarker object at 0x7f1794983908>, <folium.features.CircleMarker object at 0x7f1794969198>, <folium.features.CircleMarker object at 0x7f17949836d8>, <folium.features.CircleMarker object at 0x7f17949cd1d0>, <folium.features.CircleMarker object at 0x7f1794963b00>, <folium.features.CircleMarker object at 0x7f17949636a0>, <folium.features.CircleMarker object at 0x7f1794983518>, <folium.features.CircleMarker object at 0x7f1794983898>, <folium.features.CircleMarker object at 0x7f1794983710>, <folium.features.CircleMarker object at 0x7f1794983a58>, <folium.features.CircleMarker object at 0x7f1794983c18>, <folium.features.CircleMarker object at 0x7f1794983668>, <folium.features.CircleMarker object at 0x7f1794913d30>, <folium.features.CircleMarker object at 0x7f1794913208>, <folium.features.CircleMarker object at 0x7f1794913470>, <folium.features.CircleMarker object at 0x7f1794963f98>, <folium.features.CircleMarker object at 0x7f1794913ef0>, <folium.features.CircleMarker object at 0x7f17949c81d0>, <folium.features.CircleMarker object at 0x7f1794913c18>, <folium.features.CircleMarker object at 0x7f17949139e8>, <folium.features.CircleMarker object at 0x7f17949838d0>, <folium.features.CircleMarker object at 0x7f1794983f60>, <folium.features.CircleMarker object at 0x7f1794983dd8>, <folium.features.CircleMarker object at 0x7f1794983550>, <folium.features.CircleMarker object at 0x7f1794983da0>, <folium.features.CircleMarker object at 0x7f1794983470>]\n"
     ]
    }
   ],
   "source": [
    "cleaned_trips[0:4]\n"
   ]
  },
  {
   "cell_type": "code",
   "execution_count": null,
   "metadata": {},
   "outputs": [],
   "source": [
    "trip_markers and len(trip_markers) # 1000\n",
    "\n",
    "list(map(lambda marker: marker.location, trip_markers[0:4]))\n",
    "# [[40.64499, -73.78115],\n",
    "#  [40.766931, -73.982098],\n",
    "#  [40.77773, -73.951902],\n",
    "#  [40.795678, -73.971049]]"
   ]
  },
  {
   "cell_type": "markdown",
   "metadata": {},
   "source": [
    "Ok, now that we have a function that creates locations, and a function that creates markers, it is time to write a function to plot a map. \n",
    "\n",
    "Write a function called `map_from` that, provided the first argument of a list location and second argument an integer representing the `zoom_start`, returns a `folium` map the corresponding location and `zoom_start` attributes.\n",
    "\n",
    "> Hint: The following is how to write a map with folium:\n",
    "> ```python \n",
    "    folium.Map(location=location, zoom_start=zoom_amount)\n",
    "> ```"
   ]
  },
  {
   "cell_type": "code",
   "execution_count": null,
   "metadata": {},
   "outputs": [],
   "source": [
    "def map_from(location, zoom_amount):\n",
    "    pass"
   ]
  },
  {
   "cell_type": "code",
   "execution_count": null,
   "metadata": {},
   "outputs": [],
   "source": [
    "times_square_map = map_from([40.7589, -73.9851], 15)\n",
    "times_square_map and times_square_map.location # [40.7589, -73.9851]\n",
    "times_square_map and times_square_map.zoom_start # 15"
   ]
  },
  {
   "cell_type": "code",
   "execution_count": null,
   "metadata": {
    "scrolled": true
   },
   "outputs": [],
   "source": [
    "times_square_marker and times_square_marker.add_to(times_square_map)\n",
    "times_square_map"
   ]
  },
  {
   "cell_type": "markdown",
   "metadata": {},
   "source": [
    "Now that we have a marker and a map, now let's write a function that adds a lot of markers to a map."
   ]
  },
  {
   "cell_type": "code",
   "execution_count": null,
   "metadata": {},
   "outputs": [],
   "source": [
    "manhattan_map = map_from([40.7589, -73.9851], 13)"
   ]
  },
  {
   "cell_type": "code",
   "execution_count": null,
   "metadata": {},
   "outputs": [],
   "source": [
    "def add_markers(markers, map_obj):\n",
    "    pass"
   ]
  },
  {
   "cell_type": "code",
   "execution_count": null,
   "metadata": {
    "scrolled": false
   },
   "outputs": [],
   "source": [
    "map_with_markers = add_markers(trip_markers, manhattan_map)"
   ]
  },
  {
   "cell_type": "code",
   "execution_count": null,
   "metadata": {},
   "outputs": [],
   "source": [
    "map_with_markers"
   ]
  },
  {
   "cell_type": "markdown",
   "metadata": {},
   "source": [
    "### Using Nearest Neighbors"
   ]
  },
  {
   "cell_type": "markdown",
   "metadata": {},
   "source": [
    "Ok, let's write a function that given a latitude and longitude will predict the distance for us.  We'll do this by first finding the nearest trips given a latitude and longitude. "
   ]
  },
  {
   "cell_type": "markdown",
   "metadata": {},
   "source": [
    "Here we once again apply the nearest neighbors formula. As a first step, write a function named `distance_location` that calculates the distance in pickup location between two trips."
   ]
  },
  {
   "cell_type": "code",
   "execution_count": null,
   "metadata": {},
   "outputs": [],
   "source": [
    "import math\n",
    "\n",
    "def distance_location(selected_trip, neighbor_trip):\n",
    "    pass"
   ]
  },
  {
   "cell_type": "code",
   "execution_count": null,
   "metadata": {},
   "outputs": [],
   "source": [
    "first_trip = {'pickup_latitude': 40.64499, 'pickup_longitude': -73.78115, 'trip_distance': 18.38}\n",
    "second_trip = {'pickup_latitude': 40.766931, 'pickup_longitude': -73.982098, 'trip_distance': 1.3}\n",
    "distance_first_and_second = distance_location(first_trip, second_trip)\n",
    "\n",
    "distance_first_and_second and round(distance_first_and_second, 3) # 0.235"
   ]
  },
  {
   "cell_type": "markdown",
   "metadata": {},
   "source": [
    "Ok, next write a function called `distance_between_neighbors` that adds a new key-value pair, called `distance_from_selected`, that calculates the distance of the `neighbor_trip` from the `selected_trip`."
   ]
  },
  {
   "cell_type": "code",
   "execution_count": null,
   "metadata": {},
   "outputs": [],
   "source": [
    "def distance_between_neighbors(selected_trip, neighbor_trip):\n",
    "    pass"
   ]
  },
  {
   "cell_type": "code",
   "execution_count": null,
   "metadata": {},
   "outputs": [],
   "source": [
    "distance_between_neighbors(first_trip, second_trip)\n",
    "\n",
    "# {'distance_from_selected': 0.23505256047318146,\n",
    "#  'pickup_latitude': 40.766931,\n",
    "#  'pickup_longitude': -73.982098,\n",
    "#  'trip_distance': 1.3}"
   ]
  },
  {
   "cell_type": "markdown",
   "metadata": {},
   "source": [
    "Ok, now our `neighbor_trip` has another attribute called `distance_from_selected`, that indicates the distance from the `neighbor_trip`'s pickup location from the `selected_trip`."
   ]
  },
  {
   "cell_type": "markdown",
   "metadata": {},
   "source": [
    "> ** Understand the data:** Our dictionary now has a few attributes, two of which say distance.  Let's make sure we understand the difference. \n",
    "> * **`distance_from_selected`:** This is our calculation of the distance of the neighbor's pickup location from the selected trip.\n",
    "> * **`trip_distance`:** This is the attribute we were provided initially.  It tells us the length of the neighbor's taxi trip from pickup to dropoff.  "
   ]
  },
  {
   "cell_type": "markdown",
   "metadata": {},
   "source": [
    "Next, write a function called `distance_all` that provided a list of neighbors, returns each of those neighbors with their respective `distance_from_selected` numbers."
   ]
  },
  {
   "cell_type": "code",
   "execution_count": null,
   "metadata": {},
   "outputs": [],
   "source": [
    "def distance_all(selected_individual, neighbors):\n",
    "    pass"
   ]
  },
  {
   "cell_type": "code",
   "execution_count": null,
   "metadata": {},
   "outputs": [],
   "source": [
    "cleaned_trips and distance_all(first_trip, cleaned_trips[0:4])"
   ]
  },
  {
   "cell_type": "markdown",
   "metadata": {},
   "source": [
    "Now write the nearest neighbors formula to calculate the distance of the `selected_trip` from all of the `cleaned_trips` in our dataset.  If no number is provided, it should return the top 3 neighbors."
   ]
  },
  {
   "cell_type": "code",
   "execution_count": null,
   "metadata": {},
   "outputs": [],
   "source": [
    "def nearest_neighbors(selected_trip, trips, number = 3):\n",
    "    pass"
   ]
  },
  {
   "cell_type": "code",
   "execution_count": null,
   "metadata": {},
   "outputs": [],
   "source": [
    "new_trip = {'pickup_latitude': 40.64499,\n",
    "'pickup_longitude': -73.78115,\n",
    "'trip_distance': 18.38}\n",
    "\n",
    "nearest_three_neighbors = nearest_neighbors(new_trip, cleaned_trips or [], number = 3)\n",
    "nearest_three_neighbors\n",
    "# [{'distance_from_individual': 0.0004569288784918792,\n",
    "#   'pickup_latitude': 40.64483,\n",
    "#   'pickup_longitude': -73.781578,\n",
    "#   'trip_distance': 7.78},\n",
    "#  {'distance_from_individual': 0.0011292165425673159,\n",
    "#   'pickup_latitude': 40.644657,\n",
    "#   'pickup_longitude': -73.782229,\n",
    "#   'trip_distance': 12.7},\n",
    "#  {'distance_from_individual': 0.0042359798158141185,\n",
    "#   'pickup_latitude': 40.648509,\n",
    "#   'pickup_longitude': -73.783508,\n",
    "#   'trip_distance': 17.3}]"
   ]
  },
  {
   "cell_type": "markdown",
   "metadata": {},
   "source": [
    "Ok great! Now that we can provide a new trip location, and find the distances of the three nearest trips, we can take  calculate an estimate of the trip distance for that new trip location.  \n",
    "\n",
    "We do so simply by calculating the average of it's nearest neighbors."
   ]
  },
  {
   "cell_type": "code",
   "execution_count": null,
   "metadata": {},
   "outputs": [],
   "source": [
    "import statistics\n",
    "def mean_distance(neighbors):\n",
    "    nearest_distances = list(map(lambda neighbor: neighbor['trip_distance'], neighbors))\n",
    "    return round(statistics.mean(nearest_distances), 3)\n",
    "\n",
    "nearest_three_neighbors = nearest_neighbors(new_trip, cleaned_trips or [], number = 3)\n",
    "distance_estimate_of_selected_trip = mean_distance(nearest_three_neighbors) # 12.593\n",
    "distance_estimate_of_selected_trip"
   ]
  },
  {
   "cell_type": "markdown",
   "metadata": {},
   "source": [
    "### Choosing the correct number of neighbors"
   ]
  },
  {
   "cell_type": "markdown",
   "metadata": {},
   "source": [
    "Now, as we know from the last lesson, one tricky element is to determine how many neighbors to choose, our $k$ value,  before calculating the average.  We want to choose our value of $k$ such that it properly matches actual data, and so that it applies to new data.  There are fancy formulas to ensure that we **train** our algorithm so that our formula is optimized for all data, but here let's see different $k$ values manually.  This is the gist of choosing our $k$ value:\n",
    "\n",
    "* If we choose a $k$ value too low, our formula will be too heavily influenced by a single neighbor, whereas if our $k$ value is too high, we will be choosing so many neighbors that our nearest neighbors formula will not be adjust enough according to locations.\n",
    "\n",
    "Ok, let's experiment with this."
   ]
  },
  {
   "cell_type": "markdown",
   "metadata": {},
   "source": [
    "First, let's choose a midtown location, to see what the trip distance would be.  A Google search reveals the coordinates of 51st and 7th avenue to be the following."
   ]
  },
  {
   "cell_type": "code",
   "execution_count": null,
   "metadata": {},
   "outputs": [],
   "source": [
    "midtown_trip = dict(pickup_latitude=40.761710, pickup_longitude=-73.982760)"
   ]
  },
  {
   "cell_type": "code",
   "execution_count": null,
   "metadata": {},
   "outputs": [],
   "source": [
    "seven_closest = nearest_neighbors(midtown_trip, cleaned_trips, number = 7)\n",
    "seven_closest"
   ]
  },
  {
   "cell_type": "markdown",
   "metadata": {},
   "source": [
    "Looking at the `distance_from_selected` it appears that our our trips are still fairly close to our selected trip.  Notice that most of the data is within a distance of .002 away, so going to the top 7 nearest neighbors didn't seem to give us neighbors too far from each other, which is a good sign.\n",
    "\n",
    "Still, it's hard to know what distance in latitude and longitude really look like, so let's map the data. "
   ]
  },
  {
   "cell_type": "code",
   "execution_count": null,
   "metadata": {},
   "outputs": [],
   "source": [
    "midtown_location = location(midtown_trip) # [40.76171, -73.98276]\n",
    "midtown_map = map_from(midtown_location, 16)\n",
    "closest_markers = markers_from_trips(seven_closest)\n",
    "\n",
    "add_markers(closest_markers, midtown_map)"
   ]
  },
  {
   "cell_type": "markdown",
   "metadata": {},
   "source": [
    "Ok.  These locations stay fairly close to our estimated location of 51st street and 7th Avenue.  So they could be a good estimate of a trip distance."
   ]
  },
  {
   "cell_type": "code",
   "execution_count": null,
   "metadata": {},
   "outputs": [],
   "source": [
    "mean_distance(seven_closest) # 1.26"
   ]
  },
  {
   "cell_type": "markdown",
   "metadata": {},
   "source": [
    "Ok, now let's try a different location"
   ]
  },
  {
   "cell_type": "code",
   "execution_count": null,
   "metadata": {},
   "outputs": [],
   "source": [
    "charging_bull_closest = nearest_neighbors({'pickup_latitude': 40.7049, 'pickup_longitude': -74.0137}, cleaned_trips, number = 12)"
   ]
  },
  {
   "cell_type": "code",
   "execution_count": null,
   "metadata": {
    "scrolled": true
   },
   "outputs": [],
   "source": [
    "mean_distance(charging_bull_closest) # 3.515"
   ]
  },
  {
   "cell_type": "markdown",
   "metadata": {},
   "source": [
    "Ok, so there appears to be a significant difference between choosing a location near Times Square versus choosing a location at Wall Street."
   ]
  },
  {
   "cell_type": "markdown",
   "metadata": {},
   "source": [
    "### Summary"
   ]
  },
  {
   "cell_type": "markdown",
   "metadata": {},
   "source": [
    "In this lab, we used the nearest neighbors function to predict the length of a taxi ride.  To do so, we selected a location, then found a number of taxi rides closest to that location, and finally took the average trip lengths of the nearest taxi rides to find an estimate of the new ride's trip length.  You can see that even with just a little bit of math and programming we can begin to make meaningful predictions with data."
   ]
  },
  {
   "cell_type": "code",
   "execution_count": null,
   "metadata": {},
   "outputs": [],
   "source": []
  }
 ],
 "metadata": {
  "kernelspec": {
   "display_name": "Python 3",
   "language": "python",
   "name": "python3"
  },
  "language_info": {
   "codemirror_mode": {
    "name": "ipython",
    "version": 3
   },
   "file_extension": ".py",
   "mimetype": "text/x-python",
   "name": "python",
   "nbconvert_exporter": "python",
   "pygments_lexer": "ipython3",
   "version": "3.6.4"
  }
 },
 "nbformat": 4,
 "nbformat_minor": 2
}
